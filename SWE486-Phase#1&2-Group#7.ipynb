{
 "cells": [
  {
   "cell_type": "markdown",
   "id": "f59419bc",
   "metadata": {},
   "source": [
    "# SWE486 Project"
   ]
  },
  {
   "cell_type": "code",
   "execution_count": 1,
   "id": "119cde09",
   "metadata": {},
   "outputs": [],
   "source": [
    "#Libraries\n",
    "\n",
    "import pandas as pd\n",
    "import re \n",
    "import string\n",
    "\n",
    "# Display the tweet fully using:\n",
    "pd.set_option('display.max_colwidth', None)\n",
    "pd.set_option('max_colwidth', None)"
   ]
  },
  {
   "cell_type": "code",
   "execution_count": 63,
   "id": "f9acfa0d",
   "metadata": {},
   "outputs": [],
   "source": [
    "df = pd.read_csv('Matcha#DatasetCleaned.csv')\n",
    "df2 = pd.read_csv('Matcha#DatasetTest.csv')\n",
    "df3 = pd.read_csv('Matcha#DatasetCleaned.csv')"
   ]
  },
  {
   "cell_type": "markdown",
   "id": "91949aba",
   "metadata": {},
   "source": [
    "## Data Exploration "
   ]
  },
  {
   "cell_type": "code",
   "execution_count": 78,
   "id": "46108e63",
   "metadata": {},
   "outputs": [
    {
     "data": {
      "text/plain": [
       "Index(['Created at', 'User', 'Tweet', 'ID', 'Number of Retweets',\n",
       "       'Number of likes', 'Source', 'Location'],\n",
       "      dtype='object')"
      ]
     },
     "execution_count": 78,
     "metadata": {},
     "output_type": "execute_result"
    }
   ],
   "source": [
    "# to return columns' names of the dataset\n",
    "df.columns"
   ]
  },
  {
   "cell_type": "code",
   "execution_count": 79,
   "id": "6117619f",
   "metadata": {},
   "outputs": [
    {
     "name": "stdout",
     "output_type": "stream",
     "text": [
      "<class 'pandas.core.frame.DataFrame'>\n",
      "Int64Index: 2935 entries, 0 to 3347\n",
      "Data columns (total 8 columns):\n",
      " #   Column              Non-Null Count  Dtype  \n",
      "---  ------              --------------  -----  \n",
      " 0   Created at          2935 non-null   object \n",
      " 1   User                2935 non-null   object \n",
      " 2   Tweet               2935 non-null   object \n",
      " 3   ID                  2935 non-null   float64\n",
      " 4   Number of Retweets  2935 non-null   int64  \n",
      " 5   Number of likes     2935 non-null   int64  \n",
      " 6   Source              2935 non-null   object \n",
      " 7   Location            2105 non-null   object \n",
      "dtypes: float64(1), int64(2), object(5)\n",
      "memory usage: 206.4+ KB\n"
     ]
    }
   ],
   "source": [
    "# to return each column with the corresponding non-null values count and its data type\n",
    "df.info()"
   ]
  },
  {
   "cell_type": "code",
   "execution_count": 80,
   "id": "3e44f845",
   "metadata": {},
   "outputs": [
    {
     "data": {
      "text/plain": [
       "Created at            2935\n",
       "User                  2935\n",
       "Tweet                 2935\n",
       "ID                    2935\n",
       "Number of Retweets    2935\n",
       "Number of likes       2935\n",
       "Source                2935\n",
       "Location              2105\n",
       "dtype: int64"
      ]
     },
     "execution_count": 80,
     "metadata": {},
     "output_type": "execute_result"
    }
   ],
   "source": [
    "# to return the count of non-null values in each column\n",
    "df.count()"
   ]
  },
  {
   "cell_type": "code",
   "execution_count": 81,
   "id": "899c876e",
   "metadata": {},
   "outputs": [
    {
     "data": {
      "text/plain": [
       "2935"
      ]
     },
     "execution_count": 81,
     "metadata": {},
     "output_type": "execute_result"
    }
   ],
   "source": [
    "# to return the total number of rows\n",
    "len(df)"
   ]
  },
  {
   "cell_type": "code",
   "execution_count": 82,
   "id": "f5e4e5f6",
   "metadata": {},
   "outputs": [
    {
     "data": {
      "text/html": [
       "<div>\n",
       "<style scoped>\n",
       "    .dataframe tbody tr th:only-of-type {\n",
       "        vertical-align: middle;\n",
       "    }\n",
       "\n",
       "    .dataframe tbody tr th {\n",
       "        vertical-align: top;\n",
       "    }\n",
       "\n",
       "    .dataframe thead th {\n",
       "        text-align: right;\n",
       "    }\n",
       "</style>\n",
       "<table border=\"1\" class=\"dataframe\">\n",
       "  <thead>\n",
       "    <tr style=\"text-align: right;\">\n",
       "      <th></th>\n",
       "      <th>ID</th>\n",
       "      <th>Number of Retweets</th>\n",
       "      <th>Number of likes</th>\n",
       "    </tr>\n",
       "  </thead>\n",
       "  <tbody>\n",
       "    <tr>\n",
       "      <th>count</th>\n",
       "      <td>2.935000e+03</td>\n",
       "      <td>2935.000000</td>\n",
       "      <td>2935.000000</td>\n",
       "    </tr>\n",
       "    <tr>\n",
       "      <th>mean</th>\n",
       "      <td>1.577722e+18</td>\n",
       "      <td>0.270869</td>\n",
       "      <td>3.850767</td>\n",
       "    </tr>\n",
       "    <tr>\n",
       "      <th>std</th>\n",
       "      <td>8.007880e+14</td>\n",
       "      <td>2.985745</td>\n",
       "      <td>43.048080</td>\n",
       "    </tr>\n",
       "    <tr>\n",
       "      <th>min</th>\n",
       "      <td>1.576250e+18</td>\n",
       "      <td>0.000000</td>\n",
       "      <td>0.000000</td>\n",
       "    </tr>\n",
       "    <tr>\n",
       "      <th>25%</th>\n",
       "      <td>1.577060e+18</td>\n",
       "      <td>0.000000</td>\n",
       "      <td>0.000000</td>\n",
       "    </tr>\n",
       "    <tr>\n",
       "      <th>50%</th>\n",
       "      <td>1.577730e+18</td>\n",
       "      <td>0.000000</td>\n",
       "      <td>1.000000</td>\n",
       "    </tr>\n",
       "    <tr>\n",
       "      <th>75%</th>\n",
       "      <td>1.578400e+18</td>\n",
       "      <td>0.000000</td>\n",
       "      <td>2.000000</td>\n",
       "    </tr>\n",
       "    <tr>\n",
       "      <th>max</th>\n",
       "      <td>1.579140e+18</td>\n",
       "      <td>77.000000</td>\n",
       "      <td>2132.000000</td>\n",
       "    </tr>\n",
       "  </tbody>\n",
       "</table>\n",
       "</div>"
      ],
      "text/plain": [
       "                 ID  Number of Retweets  Number of likes\n",
       "count  2.935000e+03         2935.000000      2935.000000\n",
       "mean   1.577722e+18            0.270869         3.850767\n",
       "std    8.007880e+14            2.985745        43.048080\n",
       "min    1.576250e+18            0.000000         0.000000\n",
       "25%    1.577060e+18            0.000000         0.000000\n",
       "50%    1.577730e+18            0.000000         1.000000\n",
       "75%    1.578400e+18            0.000000         2.000000\n",
       "max    1.579140e+18           77.000000      2132.000000"
      ]
     },
     "execution_count": 82,
     "metadata": {},
     "output_type": "execute_result"
    }
   ],
   "source": [
    "# to return statistical calculations\n",
    "df.describe()"
   ]
  },
  {
   "cell_type": "code",
   "execution_count": 83,
   "id": "1f01fca2",
   "metadata": {},
   "outputs": [
    {
     "data": {
      "text/html": [
       "<div>\n",
       "<style scoped>\n",
       "    .dataframe tbody tr th:only-of-type {\n",
       "        vertical-align: middle;\n",
       "    }\n",
       "\n",
       "    .dataframe tbody tr th {\n",
       "        vertical-align: top;\n",
       "    }\n",
       "\n",
       "    .dataframe thead th {\n",
       "        text-align: right;\n",
       "    }\n",
       "</style>\n",
       "<table border=\"1\" class=\"dataframe\">\n",
       "  <thead>\n",
       "    <tr style=\"text-align: right;\">\n",
       "      <th></th>\n",
       "      <th>Created at</th>\n",
       "      <th>User</th>\n",
       "      <th>Tweet</th>\n",
       "      <th>ID</th>\n",
       "      <th>Number of Retweets</th>\n",
       "      <th>Number of likes</th>\n",
       "      <th>Source</th>\n",
       "      <th>Location</th>\n",
       "    </tr>\n",
       "  </thead>\n",
       "  <tbody>\n",
       "    <tr>\n",
       "      <th>0</th>\n",
       "      <td>2022-10-09 15:56:27+00:00</td>\n",
       "      <td>SPStavrosAuthor</td>\n",
       "      <td>I try to drink matcha over coffee, because it helps with anxiety problems instead of making them worse</td>\n",
       "      <td>1.579140e+18</td>\n",
       "      <td>0</td>\n",
       "      <td>0</td>\n",
       "      <td>Twitter for Android</td>\n",
       "      <td>Canada</td>\n",
       "    </tr>\n",
       "    <tr>\n",
       "      <th>1</th>\n",
       "      <td>2022-10-09 15:54:44+00:00</td>\n",
       "      <td>dellianarose</td>\n",
       "      <td>Height: 5‚Äô3‚Äù. Age: 29. Shoe Size: 8 or 9 (depending on the shoe) . Zodiac Sign: Sagittarius . Tattoos: 1 . Piercings: 2‚Ä¶</td>\n",
       "      <td>1.579140e+18</td>\n",
       "      <td>0</td>\n",
       "      <td>0</td>\n",
       "      <td>Twitter for iPhone</td>\n",
       "      <td>Ottawa, Ontario</td>\n",
       "    </tr>\n",
       "    <tr>\n",
       "      <th>2</th>\n",
       "      <td>2022-10-09 15:36:25+00:00</td>\n",
       "      <td>DeeReads_</td>\n",
       "      <td>drink matcha and sin</td>\n",
       "      <td>1.579130e+18</td>\n",
       "      <td>0</td>\n",
       "      <td>1</td>\n",
       "      <td>Twitter Web App</td>\n",
       "      <td>NaN</td>\n",
       "    </tr>\n",
       "    <tr>\n",
       "      <th>3</th>\n",
       "      <td>2022-10-09 14:57:00+00:00</td>\n",
       "      <td>atasteofmadness</td>\n",
       "      <td>Easy Vanilla Matcha Chai Latte recipe. This healthy warm comforting drink idea is vegan and gluten free, perfect on‚Ä¶</td>\n",
       "      <td>1.579120e+18</td>\n",
       "      <td>1</td>\n",
       "      <td>0</td>\n",
       "      <td>Twitter Web App</td>\n",
       "      <td>Chicago, IL</td>\n",
       "    </tr>\n",
       "    <tr>\n",
       "      <th>4</th>\n",
       "      <td>2022-10-09 14:21:21+00:00</td>\n",
       "      <td>ogidigest</td>\n",
       "      <td>did you drink your oatly matcha latte today?</td>\n",
       "      <td>1.579110e+18</td>\n",
       "      <td>0</td>\n",
       "      <td>0</td>\n",
       "      <td>Twitter Web App</td>\n",
       "      <td>NaN</td>\n",
       "    </tr>\n",
       "  </tbody>\n",
       "</table>\n",
       "</div>"
      ],
      "text/plain": [
       "                  Created at             User  \\\n",
       "0  2022-10-09 15:56:27+00:00  SPStavrosAuthor   \n",
       "1  2022-10-09 15:54:44+00:00     dellianarose   \n",
       "2  2022-10-09 15:36:25+00:00        DeeReads_   \n",
       "3  2022-10-09 14:57:00+00:00  atasteofmadness   \n",
       "4  2022-10-09 14:21:21+00:00        ogidigest   \n",
       "\n",
       "                                                                                                                             Tweet  \\\n",
       "0                           I try to drink matcha over coffee, because it helps with anxiety problems instead of making them worse   \n",
       "1  Height: 5‚Äô3‚Äù. Age: 29. Shoe Size: 8 or 9 (depending on the shoe) . Zodiac Sign: Sagittarius . Tattoos: 1 . Piercings: 2‚Ä¶    \n",
       "2                                                                                                             drink matcha and sin   \n",
       "3          Easy Vanilla Matcha Chai Latte recipe. This healthy warm comforting drink idea is vegan and gluten free, perfect on‚Ä¶    \n",
       "4                                                                                    did you drink your oatly matcha latte today?    \n",
       "\n",
       "             ID  Number of Retweets  Number of likes               Source  \\\n",
       "0  1.579140e+18                   0                0  Twitter for Android   \n",
       "1  1.579140e+18                   0                0   Twitter for iPhone   \n",
       "2  1.579130e+18                   0                1      Twitter Web App   \n",
       "3  1.579120e+18                   1                0      Twitter Web App   \n",
       "4  1.579110e+18                   0                0      Twitter Web App   \n",
       "\n",
       "          Location  \n",
       "0           Canada  \n",
       "1  Ottawa, Ontario  \n",
       "2              NaN  \n",
       "3      Chicago, IL  \n",
       "4              NaN  "
      ]
     },
     "execution_count": 83,
     "metadata": {},
     "output_type": "execute_result"
    }
   ],
   "source": [
    "df.head()"
   ]
  },
  {
   "cell_type": "code",
   "execution_count": 84,
   "id": "5a700052",
   "metadata": {},
   "outputs": [
    {
     "data": {
      "text/plain": [
       "(2935, 8)"
      ]
     },
     "execution_count": 84,
     "metadata": {},
     "output_type": "execute_result"
    }
   ],
   "source": [
    "df.shape"
   ]
  },
  {
   "cell_type": "markdown",
   "id": "14858e6c",
   "metadata": {},
   "source": [
    "## Data Issues:"
   ]
  },
  {
   "cell_type": "markdown",
   "id": "7832294e",
   "metadata": {},
   "source": [
    "### Issue #1: Duplicates "
   ]
  },
  {
   "cell_type": "code",
   "execution_count": 85,
   "id": "7df6b635",
   "metadata": {},
   "outputs": [
    {
     "data": {
      "text/html": [
       "<div>\n",
       "<style scoped>\n",
       "    .dataframe tbody tr th:only-of-type {\n",
       "        vertical-align: middle;\n",
       "    }\n",
       "\n",
       "    .dataframe tbody tr th {\n",
       "        vertical-align: top;\n",
       "    }\n",
       "\n",
       "    .dataframe thead th {\n",
       "        text-align: right;\n",
       "    }\n",
       "</style>\n",
       "<table border=\"1\" class=\"dataframe\">\n",
       "  <thead>\n",
       "    <tr style=\"text-align: right;\">\n",
       "      <th></th>\n",
       "      <th>Created at</th>\n",
       "      <th>User</th>\n",
       "      <th>Tweet</th>\n",
       "      <th>ID</th>\n",
       "      <th>Number of Retweets</th>\n",
       "      <th>Number of likes</th>\n",
       "      <th>Source</th>\n",
       "      <th>Location</th>\n",
       "    </tr>\n",
       "  </thead>\n",
       "  <tbody>\n",
       "    <tr>\n",
       "      <th>144</th>\n",
       "      <td>2022-10-07 10:20:16+00:00</td>\n",
       "      <td>WeLoveAmazon777</td>\n",
       "      <td>METCHA MATCHA. . üå∏. . A literature review published in the journal Japanese Medicine asserts tha‚Ä¶</td>\n",
       "      <td>1.578330e+18</td>\n",
       "      <td>0</td>\n",
       "      <td>0</td>\n",
       "      <td>Botbird tweets</td>\n",
       "      <td>United States</td>\n",
       "    </tr>\n",
       "    <tr>\n",
       "      <th>252</th>\n",
       "      <td>2022-10-05 20:50:01+00:00</td>\n",
       "      <td>WeLoveAmazon777</td>\n",
       "      <td>METCHA MATCHA. . üå∏. . A literature review published in the journal Japanese Medicine asserts tha‚Ä¶</td>\n",
       "      <td>1.577760e+18</td>\n",
       "      <td>0</td>\n",
       "      <td>0</td>\n",
       "      <td>Botbird tweets</td>\n",
       "      <td>United States</td>\n",
       "    </tr>\n",
       "    <tr>\n",
       "      <th>306</th>\n",
       "      <td>2022-10-05 08:53:17+00:00</td>\n",
       "      <td>riacarrogan</td>\n",
       "      <td></td>\n",
       "      <td>1.577580e+18</td>\n",
       "      <td>0</td>\n",
       "      <td>4</td>\n",
       "      <td>Twitter for iPhone</td>\n",
       "      <td>NaN</td>\n",
       "    </tr>\n",
       "    <tr>\n",
       "      <th>317</th>\n",
       "      <td>2022-10-05 04:18:35+00:00</td>\n",
       "      <td>WeLoveAmazon777</td>\n",
       "      <td>METCHA MATCHA. . üå∏. . A literature review published in the journal Japanese Medicine asserts tha‚Ä¶</td>\n",
       "      <td>1.577510e+18</td>\n",
       "      <td>0</td>\n",
       "      <td>0</td>\n",
       "      <td>Botbird tweets</td>\n",
       "      <td>United States</td>\n",
       "    </tr>\n",
       "    <tr>\n",
       "      <th>357</th>\n",
       "      <td>2022-10-04 18:00:21+00:00</td>\n",
       "      <td>HlalShyryn</td>\n",
       "      <td>mzdao . To prevent winter diseases, you should eat the most important natural healthy foods ÿå drinks:honey, dates,b‚Ä¶</td>\n",
       "      <td>1.577360e+18</td>\n",
       "      <td>0</td>\n",
       "      <td>1</td>\n",
       "      <td>Twitter for Android</td>\n",
       "      <td>ŸÖÿµÿ±</td>\n",
       "    </tr>\n",
       "  </tbody>\n",
       "</table>\n",
       "</div>"
      ],
      "text/plain": [
       "                    Created at             User  \\\n",
       "144  2022-10-07 10:20:16+00:00  WeLoveAmazon777   \n",
       "252  2022-10-05 20:50:01+00:00  WeLoveAmazon777   \n",
       "306  2022-10-05 08:53:17+00:00      riacarrogan   \n",
       "317  2022-10-05 04:18:35+00:00  WeLoveAmazon777   \n",
       "357  2022-10-04 18:00:21+00:00       HlalShyryn   \n",
       "\n",
       "                                                                                                                        Tweet  \\\n",
       "144                   METCHA MATCHA. . üå∏. . A literature review published in the journal Japanese Medicine asserts tha‚Ä¶    \n",
       "252                   METCHA MATCHA. . üå∏. . A literature review published in the journal Japanese Medicine asserts tha‚Ä¶    \n",
       "306                                                                                                                             \n",
       "317                   METCHA MATCHA. . üå∏. . A literature review published in the journal Japanese Medicine asserts tha‚Ä¶    \n",
       "357  mzdao . To prevent winter diseases, you should eat the most important natural healthy foods ÿå drinks:honey, dates,b‚Ä¶    \n",
       "\n",
       "               ID  Number of Retweets  Number of likes               Source  \\\n",
       "144  1.578330e+18                   0                0       Botbird tweets   \n",
       "252  1.577760e+18                   0                0       Botbird tweets   \n",
       "306  1.577580e+18                   0                4   Twitter for iPhone   \n",
       "317  1.577510e+18                   0                0       Botbird tweets   \n",
       "357  1.577360e+18                   0                1  Twitter for Android   \n",
       "\n",
       "          Location  \n",
       "144  United States  \n",
       "252  United States  \n",
       "306            NaN  \n",
       "317  United States  \n",
       "357         ŸÖÿµÿ±  "
      ]
     },
     "execution_count": 85,
     "metadata": {},
     "output_type": "execute_result"
    }
   ],
   "source": [
    "# Find duplicated rows that have the same value in 'Tweet' column\n",
    "df[df.duplicated(subset='Tweet')].head()"
   ]
  },
  {
   "cell_type": "code",
   "execution_count": 86,
   "id": "a2dfb6c5",
   "metadata": {},
   "outputs": [
    {
     "data": {
      "text/plain": [
       "95"
      ]
     },
     "execution_count": 86,
     "metadata": {},
     "output_type": "execute_result"
    }
   ],
   "source": [
    "# duplicates count\n",
    "df.duplicated(subset='Tweet').sum()"
   ]
  },
  {
   "cell_type": "code",
   "execution_count": 87,
   "id": "bb67be79",
   "metadata": {},
   "outputs": [],
   "source": [
    "# remove duplicates\n",
    "df.drop_duplicates(subset='Tweet', inplace=True)\n",
    "df3.drop_duplicates(subset='Tweet', inplace=True)"
   ]
  },
  {
   "cell_type": "code",
   "execution_count": 88,
   "id": "2ae381ae",
   "metadata": {},
   "outputs": [
    {
     "data": {
      "text/plain": [
       "0"
      ]
     },
     "execution_count": 88,
     "metadata": {},
     "output_type": "execute_result"
    }
   ],
   "source": [
    "# check if duplicates were removed\n",
    "df.duplicated(subset='Tweet').sum()\n",
    "df3.duplicated(subset='Tweet').sum()"
   ]
  },
  {
   "cell_type": "code",
   "execution_count": 89,
   "id": "e846426a",
   "metadata": {},
   "outputs": [
    {
     "data": {
      "text/plain": [
       "(2840, 8)"
      ]
     },
     "execution_count": 89,
     "metadata": {},
     "output_type": "execute_result"
    }
   ],
   "source": [
    "# check total number of rows in df\n",
    "df.shape"
   ]
  },
  {
   "cell_type": "markdown",
   "id": "483402c9",
   "metadata": {},
   "source": [
    "### Issue #2: Hyperlinks"
   ]
  },
  {
   "cell_type": "code",
   "execution_count": 90,
   "id": "551e8cf0",
   "metadata": {},
   "outputs": [
    {
     "data": {
      "text/plain": [
       "Created at            0\n",
       "User                  0\n",
       "Tweet                 0\n",
       "ID                    0\n",
       "Number of Retweets    0\n",
       "Number of likes       0\n",
       "Source                0\n",
       "Location              0\n",
       "dtype: int64"
      ]
     },
     "execution_count": 90,
     "metadata": {},
     "output_type": "execute_result"
    }
   ],
   "source": [
    "#Display tweets contain hyperlinks\n",
    "df[df['Tweet'].str.contains('http\\S')].count()"
   ]
  },
  {
   "cell_type": "code",
   "execution_count": 91,
   "id": "04de2de2",
   "metadata": {},
   "outputs": [
    {
     "data": {
      "text/html": [
       "<div>\n",
       "<style scoped>\n",
       "    .dataframe tbody tr th:only-of-type {\n",
       "        vertical-align: middle;\n",
       "    }\n",
       "\n",
       "    .dataframe tbody tr th {\n",
       "        vertical-align: top;\n",
       "    }\n",
       "\n",
       "    .dataframe thead th {\n",
       "        text-align: right;\n",
       "    }\n",
       "</style>\n",
       "<table border=\"1\" class=\"dataframe\">\n",
       "  <thead>\n",
       "    <tr style=\"text-align: right;\">\n",
       "      <th></th>\n",
       "      <th>Created at</th>\n",
       "      <th>User</th>\n",
       "      <th>Tweet</th>\n",
       "      <th>ID</th>\n",
       "      <th>Number of Retweets</th>\n",
       "      <th>Number of likes</th>\n",
       "      <th>Source</th>\n",
       "      <th>Location</th>\n",
       "    </tr>\n",
       "  </thead>\n",
       "  <tbody>\n",
       "  </tbody>\n",
       "</table>\n",
       "</div>"
      ],
      "text/plain": [
       "Empty DataFrame\n",
       "Columns: [Created at, User, Tweet, ID, Number of Retweets, Number of likes, Source, Location]\n",
       "Index: []"
      ]
     },
     "execution_count": 91,
     "metadata": {},
     "output_type": "execute_result"
    }
   ],
   "source": [
    "#Which .head(5) brings the 1st five rows tweets contain hyperlinks\n",
    "#As shouwn; it brings rows contain Hyperlinks before manipulating \n",
    "df[df['Tweet'].str.contains('http\\S')].head(5)"
   ]
  },
  {
   "cell_type": "code",
   "execution_count": 92,
   "id": "99d3662c",
   "metadata": {},
   "outputs": [],
   "source": [
    "#This function removes hyperlinks from the tweets\n",
    "def remove_URL(tweet):\n",
    "    \"\"\"Remove URLs from a sample string\"\"\"\n",
    "    return re.sub(r\"http\\S+\", \"\", tweet)\n",
    "\n",
    "#Apply remove_URL method\n",
    "df['Tweet'] = df['Tweet'].apply(remove_URL)\n",
    "df3['Tweet'] = df3['Tweet'].apply(remove_URL)"
   ]
  },
  {
   "cell_type": "code",
   "execution_count": 93,
   "id": "e2e5e9c7",
   "metadata": {},
   "outputs": [
    {
     "data": {
      "text/plain": [
       "Created at            0\n",
       "User                  0\n",
       "Tweet                 0\n",
       "ID                    0\n",
       "Number of Retweets    0\n",
       "Number of likes       0\n",
       "Source                0\n",
       "Location              0\n",
       "dtype: int64"
      ]
     },
     "execution_count": 93,
     "metadata": {},
     "output_type": "execute_result"
    }
   ],
   "source": [
    "#To make sure 'Tweet' Column doesn't contain hyperlinks [I]\n",
    "df[df['Tweet'].str.contains('http\\S')].count()"
   ]
  },
  {
   "cell_type": "code",
   "execution_count": 94,
   "id": "3b43587d",
   "metadata": {},
   "outputs": [
    {
     "data": {
      "text/html": [
       "<div>\n",
       "<style scoped>\n",
       "    .dataframe tbody tr th:only-of-type {\n",
       "        vertical-align: middle;\n",
       "    }\n",
       "\n",
       "    .dataframe tbody tr th {\n",
       "        vertical-align: top;\n",
       "    }\n",
       "\n",
       "    .dataframe thead th {\n",
       "        text-align: right;\n",
       "    }\n",
       "</style>\n",
       "<table border=\"1\" class=\"dataframe\">\n",
       "  <thead>\n",
       "    <tr style=\"text-align: right;\">\n",
       "      <th></th>\n",
       "      <th>Created at</th>\n",
       "      <th>User</th>\n",
       "      <th>Tweet</th>\n",
       "      <th>ID</th>\n",
       "      <th>Number of Retweets</th>\n",
       "      <th>Number of likes</th>\n",
       "      <th>Source</th>\n",
       "      <th>Location</th>\n",
       "    </tr>\n",
       "  </thead>\n",
       "  <tbody>\n",
       "  </tbody>\n",
       "</table>\n",
       "</div>"
      ],
      "text/plain": [
       "Empty DataFrame\n",
       "Columns: [Created at, User, Tweet, ID, Number of Retweets, Number of likes, Source, Location]\n",
       "Index: []"
      ]
     },
     "execution_count": 94,
     "metadata": {},
     "output_type": "execute_result"
    }
   ],
   "source": [
    "#To make sure 'Tweet' Column doesn't contain hyperlinks [II]\n",
    "#Which .head(5) brings the 1st five rows tweets contain hyperlinks\n",
    "#As shouwn; it doesn't bring any row\n",
    "df[df['Tweet'].str.contains('http\\S')].head(5)"
   ]
  },
  {
   "cell_type": "markdown",
   "id": "1f40bc67",
   "metadata": {},
   "source": [
    "### Issue #3: Normalization"
   ]
  },
  {
   "cell_type": "code",
   "execution_count": 95,
   "id": "c0bddf89",
   "metadata": {},
   "outputs": [],
   "source": [
    "# NORMALIZATION PROBLEM\n",
    "\n",
    "# It's been noticed that some Twitter users use 'Matcha' and sometimes 'Macha' while referring to the same drink.\n",
    "# Therefore, it will be normalized to 'Matcha' in all tweets.\n",
    "\n",
    "#This method takes the tweet as the parameter, normalizes the drink's spelling, then returns it.\n",
    "def normalize(tweet):\n",
    "    tweet = re.sub(\"macha\",\"matcha\", tweet)\n",
    "    tweet = re.sub(\"Macha\",\"matcha\", tweet)\n",
    "    tweet = re.sub(\"MACHA\",\"matcha\", tweet)\n",
    "    return tweet"
   ]
  },
  {
   "cell_type": "code",
   "execution_count": 96,
   "id": "2cdd17c7",
   "metadata": {},
   "outputs": [],
   "source": [
    "df['Tweet'] = df['Tweet'].apply(normalize)\n",
    "df3['Tweet'] = df3['Tweet'].apply(normalize)"
   ]
  },
  {
   "cell_type": "code",
   "execution_count": 97,
   "id": "cac12259",
   "metadata": {},
   "outputs": [
    {
     "data": {
      "text/html": [
       "<div>\n",
       "<style scoped>\n",
       "    .dataframe tbody tr th:only-of-type {\n",
       "        vertical-align: middle;\n",
       "    }\n",
       "\n",
       "    .dataframe tbody tr th {\n",
       "        vertical-align: top;\n",
       "    }\n",
       "\n",
       "    .dataframe thead th {\n",
       "        text-align: right;\n",
       "    }\n",
       "</style>\n",
       "<table border=\"1\" class=\"dataframe\">\n",
       "  <thead>\n",
       "    <tr style=\"text-align: right;\">\n",
       "      <th></th>\n",
       "      <th>Created at</th>\n",
       "      <th>User</th>\n",
       "      <th>Tweet</th>\n",
       "      <th>ID</th>\n",
       "      <th>Number of Retweets</th>\n",
       "      <th>Number of likes</th>\n",
       "      <th>Source</th>\n",
       "      <th>Location</th>\n",
       "    </tr>\n",
       "  </thead>\n",
       "  <tbody>\n",
       "    <tr>\n",
       "      <th>319</th>\n",
       "      <td>2022-10-05 03:59:04+00:00</td>\n",
       "      <td>Sakisui_</td>\n",
       "      <td>Thanks for the tag Yuu!~ UwU. . ‚ÄîFive favs‚Äî. Food: Pizza üçï. Drink: Lychee Tea, Matcha. Color: Green. Season: Spring üíê. Ani‚Ä¶</td>\n",
       "      <td>1.577510e+18</td>\n",
       "      <td>1</td>\n",
       "      <td>3</td>\n",
       "      <td>Twitter for Android</td>\n",
       "      <td>NaN</td>\n",
       "    </tr>\n",
       "    <tr>\n",
       "      <th>1315</th>\n",
       "      <td>2022-10-05 20:02:54+00:00</td>\n",
       "      <td>sheeshdally</td>\n",
       "      <td>matcha latte (light ice) with 2 pumps of chai tea, oat milk &amp;amp; extra vanilla foamü§§ü§§</td>\n",
       "      <td>1.577750e+18</td>\n",
       "      <td>0</td>\n",
       "      <td>1</td>\n",
       "      <td>Twitter for iPhone</td>\n",
       "      <td>ATL HOE</td>\n",
       "    </tr>\n",
       "    <tr>\n",
       "      <th>1942</th>\n",
       "      <td>2022-10-02 16:53:08+00:00</td>\n",
       "      <td>mykaylaa_m</td>\n",
       "      <td>Can‚Äôt help but yell ‚Äúfuck‚Äù after that first sip of a good matcha latte.</td>\n",
       "      <td>1.576620e+18</td>\n",
       "      <td>0</td>\n",
       "      <td>1</td>\n",
       "      <td>Twitter for iPhone</td>\n",
       "      <td>mommin</td>\n",
       "    </tr>\n",
       "    <tr>\n",
       "      <th>700</th>\n",
       "      <td>2022-10-08 19:57:29+00:00</td>\n",
       "      <td>RisaVtuber</td>\n",
       "      <td>Like I've been doing scuffed matcha latte for two days now and it's yummy, but also it's done so wrong üòÇ</td>\n",
       "      <td>1.578840e+18</td>\n",
       "      <td>0</td>\n",
       "      <td>2</td>\n",
       "      <td>Twitter Web App</td>\n",
       "      <td>NaN</td>\n",
       "    </tr>\n",
       "    <tr>\n",
       "      <th>302</th>\n",
       "      <td>2022-10-05 12:02:18+00:00</td>\n",
       "      <td>0xShar</td>\n",
       "      <td>another day, another matcha drink üçµ</td>\n",
       "      <td>1.577630e+18</td>\n",
       "      <td>0</td>\n",
       "      <td>28</td>\n",
       "      <td>Twitter for iPhone</td>\n",
       "      <td>shar | smcapital.eth#7914</td>\n",
       "    </tr>\n",
       "  </tbody>\n",
       "</table>\n",
       "</div>"
      ],
      "text/plain": [
       "                     Created at         User  \\\n",
       "319   2022-10-05 03:59:04+00:00     Sakisui_   \n",
       "1315  2022-10-05 20:02:54+00:00  sheeshdally   \n",
       "1942  2022-10-02 16:53:08+00:00   mykaylaa_m   \n",
       "700   2022-10-08 19:57:29+00:00   RisaVtuber   \n",
       "302   2022-10-05 12:02:18+00:00       0xShar   \n",
       "\n",
       "                                                                                                                                         Tweet  \\\n",
       "319   Thanks for the tag Yuu!~ UwU. . ‚ÄîFive favs‚Äî. Food: Pizza üçï. Drink: Lychee Tea, Matcha. Color: Green. Season: Spring üíê. Ani‚Ä¶    \n",
       "1315                                              matcha latte (light ice) with 2 pumps of chai tea, oat milk &amp; extra vanilla foamü§§ü§§   \n",
       "1942                                                             Can‚Äôt help but yell ‚Äúfuck‚Äù after that first sip of a good matcha latte.   \n",
       "700                                Like I've been doing scuffed matcha latte for two days now and it's yummy, but also it's done so wrong üòÇ   \n",
       "302                                                                                                    another day, another matcha drink üçµ    \n",
       "\n",
       "                ID  Number of Retweets  Number of likes               Source  \\\n",
       "319   1.577510e+18                   1                3  Twitter for Android   \n",
       "1315  1.577750e+18                   0                1   Twitter for iPhone   \n",
       "1942  1.576620e+18                   0                1   Twitter for iPhone   \n",
       "700   1.578840e+18                   0                2      Twitter Web App   \n",
       "302   1.577630e+18                   0               28   Twitter for iPhone   \n",
       "\n",
       "                       Location  \n",
       "319                         NaN  \n",
       "1315                    ATL HOE  \n",
       "1942                    mommin   \n",
       "700                         NaN  \n",
       "302   shar | smcapital.eth#7914  "
      ]
     },
     "execution_count": 97,
     "metadata": {},
     "output_type": "execute_result"
    }
   ],
   "source": [
    "#Return a sample of the dataset\n",
    "df.sample(5)"
   ]
  },
  {
   "cell_type": "code",
   "execution_count": 98,
   "id": "e5eaa5d4",
   "metadata": {},
   "outputs": [
    {
     "data": {
      "text/html": [
       "<div>\n",
       "<style scoped>\n",
       "    .dataframe tbody tr th:only-of-type {\n",
       "        vertical-align: middle;\n",
       "    }\n",
       "\n",
       "    .dataframe tbody tr th {\n",
       "        vertical-align: top;\n",
       "    }\n",
       "\n",
       "    .dataframe thead th {\n",
       "        text-align: right;\n",
       "    }\n",
       "</style>\n",
       "<table border=\"1\" class=\"dataframe\">\n",
       "  <thead>\n",
       "    <tr style=\"text-align: right;\">\n",
       "      <th></th>\n",
       "      <th>Created at</th>\n",
       "      <th>User</th>\n",
       "      <th>Tweet</th>\n",
       "      <th>ID</th>\n",
       "      <th>Number of Retweets</th>\n",
       "      <th>Number of likes</th>\n",
       "      <th>Source</th>\n",
       "      <th>Location</th>\n",
       "    </tr>\n",
       "  </thead>\n",
       "  <tbody>\n",
       "  </tbody>\n",
       "</table>\n",
       "</div>"
      ],
      "text/plain": [
       "Empty DataFrame\n",
       "Columns: [Created at, User, Tweet, ID, Number of Retweets, Number of likes, Source, Location]\n",
       "Index: []"
      ]
     },
     "execution_count": 98,
     "metadata": {},
     "output_type": "execute_result"
    }
   ],
   "source": [
    "# To check if 'macha' has been replaced with 'matcha', an attempt to return any tweet that contains the word 'macha' is made\n",
    "# However, the dataframe returned is empty, which means there aren't any tweets with the word 'macha', and our normalization\n",
    "# is successful!\n",
    "\n",
    "df[df['Tweet'].str.contains('macha')]"
   ]
  },
  {
   "cell_type": "code",
   "execution_count": 99,
   "id": "9cc31cb8",
   "metadata": {},
   "outputs": [
    {
     "data": {
      "text/html": [
       "<div>\n",
       "<style scoped>\n",
       "    .dataframe tbody tr th:only-of-type {\n",
       "        vertical-align: middle;\n",
       "    }\n",
       "\n",
       "    .dataframe tbody tr th {\n",
       "        vertical-align: top;\n",
       "    }\n",
       "\n",
       "    .dataframe thead th {\n",
       "        text-align: right;\n",
       "    }\n",
       "</style>\n",
       "<table border=\"1\" class=\"dataframe\">\n",
       "  <thead>\n",
       "    <tr style=\"text-align: right;\">\n",
       "      <th></th>\n",
       "      <th>Created at</th>\n",
       "      <th>User</th>\n",
       "      <th>Tweet</th>\n",
       "      <th>ID</th>\n",
       "      <th>Number of Retweets</th>\n",
       "      <th>Number of likes</th>\n",
       "      <th>Source</th>\n",
       "      <th>Location</th>\n",
       "    </tr>\n",
       "  </thead>\n",
       "  <tbody>\n",
       "    <tr>\n",
       "      <th>2886</th>\n",
       "      <td>2022-10-05 01:33:17+00:00</td>\n",
       "      <td>nalgonjm</td>\n",
       "      <td>matcha iced tea üò≠üò≠ it don‚Äôt look like it tho</td>\n",
       "      <td>1.577470e+18</td>\n",
       "      <td>0</td>\n",
       "      <td>0</td>\n",
       "      <td>Twitter for iPhone</td>\n",
       "      <td>yas/üá∏üáª/eighteen.</td>\n",
       "    </tr>\n",
       "    <tr>\n",
       "      <th>180</th>\n",
       "      <td>2022-10-06 19:31:55+00:00</td>\n",
       "      <td>GuyCalledJavi</td>\n",
       "      <td>i went all out on this matcha stuff, i drink it from bowls and whisk it with bamboo. morning ritual added.... i'm so fuckin cool dude üòÇ</td>\n",
       "      <td>1.578110e+18</td>\n",
       "      <td>0</td>\n",
       "      <td>1</td>\n",
       "      <td>Twitter Web App</td>\n",
       "      <td>NaN</td>\n",
       "    </tr>\n",
       "    <tr>\n",
       "      <th>1353</th>\n",
       "      <td>2022-10-05 18:33:38+00:00</td>\n",
       "      <td>Brandizzlezz</td>\n",
       "      <td>Iced matcha tea w oat milk &amp;amp; 3 pumps of vanilla or Iced blond vanilla latte with sweet cream foam</td>\n",
       "      <td>1.577730e+18</td>\n",
       "      <td>0</td>\n",
       "      <td>0</td>\n",
       "      <td>Twitter for iPhone</td>\n",
       "      <td>NaN</td>\n",
       "    </tr>\n",
       "    <tr>\n",
       "      <th>2279</th>\n",
       "      <td>2022-10-09 11:33:34+00:00</td>\n",
       "      <td>061_troop</td>\n",
       "      <td>Wawa green matcha tea callin a real nigga to the stand</td>\n",
       "      <td>1.579070e+18</td>\n",
       "      <td>0</td>\n",
       "      <td>0</td>\n",
       "      <td>Twitter for iPhone</td>\n",
       "      <td>bermuda</td>\n",
       "    </tr>\n",
       "    <tr>\n",
       "      <th>671</th>\n",
       "      <td>2022-10-09 00:46:24+00:00</td>\n",
       "      <td>minimefr</td>\n",
       "      <td>7:45 hot matcha latte w coconut milk (80) . . i‚Äôm soooo hungry honestly, gonna go to sleep soon</td>\n",
       "      <td>1.578910e+18</td>\n",
       "      <td>0</td>\n",
       "      <td>0</td>\n",
       "      <td>Twitter for iPhone</td>\n",
       "      <td>they/she</td>\n",
       "    </tr>\n",
       "    <tr>\n",
       "      <th>321</th>\n",
       "      <td>2022-10-05 03:07:52+00:00</td>\n",
       "      <td>myctwits</td>\n",
       "      <td>Find out the benefits of consuming matcha!. . food myc mycnews matcha benefitsofmatcha greentea matchadrink‚Ä¶</td>\n",
       "      <td>1.577500e+18</td>\n",
       "      <td>0</td>\n",
       "      <td>0</td>\n",
       "      <td>Twitter Web App</td>\n",
       "      <td>NaN</td>\n",
       "    </tr>\n",
       "    <tr>\n",
       "      <th>1802</th>\n",
       "      <td>2022-10-03 15:10:29+00:00</td>\n",
       "      <td>herewegosiu</td>\n",
       "      <td>How to find a matcha latte in europe that tastes like in asiaü•≤ . im craving for the pure matcha somatcha</td>\n",
       "      <td>1.576950e+18</td>\n",
       "      <td>0</td>\n",
       "      <td>0</td>\n",
       "      <td>Twitter for iPhone</td>\n",
       "      <td>NaN</td>\n",
       "    </tr>\n",
       "    <tr>\n",
       "      <th>1456</th>\n",
       "      <td>2022-10-05 06:49:19+00:00</td>\n",
       "      <td>mollymymee</td>\n",
       "      <td>maybe I'll need 10 cups of matcha latte to feels alright</td>\n",
       "      <td>1.577550e+18</td>\n",
       "      <td>0</td>\n",
       "      <td>0</td>\n",
       "      <td>Twitter Web App</td>\n",
       "      <td>NaN</td>\n",
       "    </tr>\n",
       "    <tr>\n",
       "      <th>612</th>\n",
       "      <td>2022-10-09 09:23:46+00:00</td>\n",
       "      <td>RiviereTosh</td>\n",
       "      <td>I like matcha, I've never tried matcha latte, that sounds delicious</td>\n",
       "      <td>1.579040e+18</td>\n",
       "      <td>0</td>\n",
       "      <td>0</td>\n",
       "      <td>Twitter for Android</td>\n",
       "      <td>Canada</td>\n",
       "    </tr>\n",
       "    <tr>\n",
       "      <th>849</th>\n",
       "      <td>2022-10-07 22:12:15+00:00</td>\n",
       "      <td>DEClDEWES10</td>\n",
       "      <td>got starbucks again today matcha latte w pumpkin cold foam is SO GOOD THABKS WESTO N</td>\n",
       "      <td>1.578510e+18</td>\n",
       "      <td>0</td>\n",
       "      <td>0</td>\n",
       "      <td>Twitter for iPhone</td>\n",
       "      <td>he/him | 19 | carrd byf!</td>\n",
       "    </tr>\n",
       "  </tbody>\n",
       "</table>\n",
       "</div>"
      ],
      "text/plain": [
       "                     Created at           User  \\\n",
       "2886  2022-10-05 01:33:17+00:00       nalgonjm   \n",
       "180   2022-10-06 19:31:55+00:00  GuyCalledJavi   \n",
       "1353  2022-10-05 18:33:38+00:00   Brandizzlezz   \n",
       "2279  2022-10-09 11:33:34+00:00      061_troop   \n",
       "671   2022-10-09 00:46:24+00:00       minimefr   \n",
       "321   2022-10-05 03:07:52+00:00       myctwits   \n",
       "1802  2022-10-03 15:10:29+00:00    herewegosiu   \n",
       "1456  2022-10-05 06:49:19+00:00     mollymymee   \n",
       "612   2022-10-09 09:23:46+00:00    RiviereTosh   \n",
       "849   2022-10-07 22:12:15+00:00    DEClDEWES10   \n",
       "\n",
       "                                                                                                                                           Tweet  \\\n",
       "2886                                                                                        matcha iced tea üò≠üò≠ it don‚Äôt look like it tho   \n",
       "180   i went all out on this matcha stuff, i drink it from bowls and whisk it with bamboo. morning ritual added.... i'm so fuckin cool dude üòÇ   \n",
       "1353                                       Iced matcha tea w oat milk &amp; 3 pumps of vanilla or Iced blond vanilla latte with sweet cream foam   \n",
       "2279                                                                                      Wawa green matcha tea callin a real nigga to the stand   \n",
       "671                                            7:45 hot matcha latte w coconut milk (80) . . i‚Äôm soooo hungry honestly, gonna go to sleep soon   \n",
       "321                              Find out the benefits of consuming matcha!. . food myc mycnews matcha benefitsofmatcha greentea matchadrink‚Ä¶    \n",
       "1802                                 How to find a matcha latte in europe that tastes like in asiaü•≤ . im craving for the pure matcha somatcha   \n",
       "1456                                                                                    maybe I'll need 10 cups of matcha latte to feels alright   \n",
       "612                                                                          I like matcha, I've never tried matcha latte, that sounds delicious   \n",
       "849                                                         got starbucks again today matcha latte w pumpkin cold foam is SO GOOD THABKS WESTO N   \n",
       "\n",
       "                ID  Number of Retweets  Number of likes               Source  \\\n",
       "2886  1.577470e+18                   0                0   Twitter for iPhone   \n",
       "180   1.578110e+18                   0                1      Twitter Web App   \n",
       "1353  1.577730e+18                   0                0   Twitter for iPhone   \n",
       "2279  1.579070e+18                   0                0   Twitter for iPhone   \n",
       "671   1.578910e+18                   0                0   Twitter for iPhone   \n",
       "321   1.577500e+18                   0                0      Twitter Web App   \n",
       "1802  1.576950e+18                   0                0   Twitter for iPhone   \n",
       "1456  1.577550e+18                   0                0      Twitter Web App   \n",
       "612   1.579040e+18                   0                0  Twitter for Android   \n",
       "849   1.578510e+18                   0                0   Twitter for iPhone   \n",
       "\n",
       "                      Location  \n",
       "2886    yas/üá∏üáª/eighteen.  \n",
       "180                        NaN  \n",
       "1353                       NaN  \n",
       "2279                  bermuda   \n",
       "671                   they/she  \n",
       "321                        NaN  \n",
       "1802                       NaN  \n",
       "1456                       NaN  \n",
       "612                     Canada  \n",
       "849   he/him | 19 | carrd byf!  "
      ]
     },
     "execution_count": 99,
     "metadata": {},
     "output_type": "execute_result"
    }
   ],
   "source": [
    "# Here, all of the tweets in the sample contain 'matcha' and not 'macha'\n",
    "df[df['Tweet'].str.contains('matcha')].sample(10)"
   ]
  },
  {
   "cell_type": "markdown",
   "id": "510d2da7",
   "metadata": {},
   "source": [
    "### Issue #4: Punctuations:"
   ]
  },
  {
   "cell_type": "code",
   "execution_count": 100,
   "id": "f4b82880",
   "metadata": {},
   "outputs": [],
   "source": [
    "#This function removes punctuations from the tweets\n",
    "\n",
    "def remove_punctuations(tweets):\n",
    "    translator=str.maketrans('','','!\"#$%&()*+,-./:;<=>?@[\\]^_`{|}~')\n",
    "    newTweets=tweets.translate(translator)\n",
    "    newTweets=' '.join(c for c in newTweets.split())\n",
    "    return newTweets\n",
    "\n",
    "#Apply remove_punctuations method\n",
    "df['Tweet'] = df['Tweet'].apply(remove_punctuations)"
   ]
  },
  {
   "cell_type": "code",
   "execution_count": 26,
   "id": "3705ac59",
   "metadata": {},
   "outputs": [
    {
     "data": {
      "text/plain": [
       "Created at            0\n",
       "User                  0\n",
       "Tweet                 0\n",
       "ID                    0\n",
       "Number of Retweets    0\n",
       "Number of likes       0\n",
       "Source                0\n",
       "Location              0\n",
       "dtype: int64"
      ]
     },
     "execution_count": 26,
     "metadata": {},
     "output_type": "execute_result"
    }
   ],
   "source": [
    "#To make sure 'Tweet' Column doesn't contain punctuations (comma as an example)\n",
    "df[df['Tweet'].str.contains(',')].count()"
   ]
  },
  {
   "cell_type": "code",
   "execution_count": 27,
   "id": "885b891b",
   "metadata": {},
   "outputs": [
    {
     "data": {
      "text/html": [
       "<div>\n",
       "<style scoped>\n",
       "    .dataframe tbody tr th:only-of-type {\n",
       "        vertical-align: middle;\n",
       "    }\n",
       "\n",
       "    .dataframe tbody tr th {\n",
       "        vertical-align: top;\n",
       "    }\n",
       "\n",
       "    .dataframe thead th {\n",
       "        text-align: right;\n",
       "    }\n",
       "</style>\n",
       "<table border=\"1\" class=\"dataframe\">\n",
       "  <thead>\n",
       "    <tr style=\"text-align: right;\">\n",
       "      <th></th>\n",
       "      <th>Created at</th>\n",
       "      <th>User</th>\n",
       "      <th>Tweet</th>\n",
       "      <th>ID</th>\n",
       "      <th>Number of Retweets</th>\n",
       "      <th>Number of likes</th>\n",
       "      <th>Source</th>\n",
       "      <th>Location</th>\n",
       "    </tr>\n",
       "  </thead>\n",
       "  <tbody>\n",
       "  </tbody>\n",
       "</table>\n",
       "</div>"
      ],
      "text/plain": [
       "Empty DataFrame\n",
       "Columns: [Created at, User, Tweet, ID, Number of Retweets, Number of likes, Source, Location]\n",
       "Index: []"
      ]
     },
     "execution_count": 27,
     "metadata": {},
     "output_type": "execute_result"
    }
   ],
   "source": [
    "df[df['Tweet'].str.contains(',')].head(5)"
   ]
  },
  {
   "cell_type": "markdown",
   "id": "f255de4d",
   "metadata": {},
   "source": [
    "### Issue #5: Remove hashtags, mentions, taps and new lines"
   ]
  },
  {
   "cell_type": "code",
   "execution_count": 101,
   "id": "e28ef1f1",
   "metadata": {},
   "outputs": [],
   "source": [
    "#This function removes # ,@ and new lines from tweets\n",
    "\n",
    "def remove_hashtags(tweet):\n",
    "    #Replace #word with word\n",
    "    tweet = re.sub(r'#([^\\s]+)', r'\\1', tweet)\n",
    "    tweet = re.sub(r'\\n','. ', tweet)\n",
    "    \n",
    "    #Replace @username with empty string\n",
    "    tweet = re.sub('@[^\\s]+', ' ', tweet)\n",
    "    \n",
    "    #Replace new lines with white space\n",
    "    tweet = tweet.replace('\\n',' ')\n",
    "    tweet = tweet.replace('\\t',' ')\n",
    "    tweet = tweet.replace('_',' ')\n",
    "    tweet = tweet.replace('\\r',' ')\n",
    "    \n",
    "    return tweet\n",
    "\n",
    "#Apply remove_punctuations method\n",
    "df['Tweet'] = df['Tweet'].apply(remove_hashtags)\n",
    "df3['Tweet'] = df3['Tweet'].apply(remove_hashtags)"
   ]
  },
  {
   "cell_type": "code",
   "execution_count": 102,
   "id": "49520caf",
   "metadata": {},
   "outputs": [],
   "source": [
    "df.to_csv('Matcha#DatasetCleaned.csv', index=False)\n"
   ]
  },
  {
   "cell_type": "code",
   "execution_count": 77,
   "id": "30e4235a",
   "metadata": {},
   "outputs": [],
   "source": [
    "df3.to_csv('test.csv', index=False)"
   ]
  },
  {
   "cell_type": "code",
   "execution_count": null,
   "id": "6d076156",
   "metadata": {},
   "outputs": [],
   "source": []
  }
 ],
 "metadata": {
  "kernelspec": {
   "display_name": "Python 3 (ipykernel)",
   "language": "python",
   "name": "python3"
  },
  "language_info": {
   "codemirror_mode": {
    "name": "ipython",
    "version": 3
   },
   "file_extension": ".py",
   "mimetype": "text/x-python",
   "name": "python",
   "nbconvert_exporter": "python",
   "pygments_lexer": "ipython3",
   "version": "3.9.7"
  }
 },
 "nbformat": 4,
 "nbformat_minor": 5
}
