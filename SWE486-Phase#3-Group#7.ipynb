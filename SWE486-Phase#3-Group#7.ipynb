{
 "cells": [
  {
   "cell_type": "code",
   "execution_count": 5,
   "id": "37a4d83e",
   "metadata": {},
   "outputs": [],
   "source": [
    "import matplotlib.pyplot as plt\n",
    "import seaborn\n",
    "import requests\n",
    "import json\n",
    "import pandas as pd\n"
   ]
  },
  {
   "cell_type": "code",
   "execution_count": 6,
   "id": "2bf2b9d2",
   "metadata": {},
   "outputs": [],
   "source": [
    "def predict(sentence):\n",
    "    url = \"http://mazajak.inf.ed.ac.uk:8000/api/predict\"\n",
    "    to_sent = {'data': sentence}\n",
    "    data = json.dumps(to_sent)\n",
    "    headers = {'content-type': 'application/json'}\n",
    "    # sending get request and saving the response as response object\n",
    "    response = requests.post(url=url, data=data, headers=headers)\n",
    "    \n",
    "    if response.status_code == 200:\n",
    "        prediction = json.loads(response.content)['data']\n",
    "        \n",
    "    else:\n",
    "        prediction = \"error\"\n",
    "\n",
    "    return prediction"
   ]
  },
  {
   "cell_type": "code",
   "execution_count": 7,
   "id": "af020048",
   "metadata": {},
   "outputs": [],
   "source": [
    "# change the seeting of the cells to show the entire content of coulmn ( eexpand the size of coulmn)\n",
    "pd.set_option('display.max_columns', None)\n",
    "pd.set_option('display.max_rows', None)\n",
    "pd.set_option('display.max_colwidth', None)"
   ]
  },
  {
   "cell_type": "code",
   "execution_count": 8,
   "id": "a37eadff",
   "metadata": {},
   "outputs": [],
   "source": [
    "df = pd.read_csv('Matcha#DatasetCleaned.csv')"
   ]
  },
  {
   "cell_type": "code",
   "execution_count": 9,
   "id": "bc5cbec6",
   "metadata": {},
   "outputs": [],
   "source": [
    "df['Class'] = df['Tweet'].apply(lambda x: predict(x))"
   ]
  },
  {
   "cell_type": "code",
   "execution_count": 10,
   "id": "db00c9ac",
   "metadata": {},
   "outputs": [
    {
     "data": {
      "text/html": [
       "<div>\n",
       "<style scoped>\n",
       "    .dataframe tbody tr th:only-of-type {\n",
       "        vertical-align: middle;\n",
       "    }\n",
       "\n",
       "    .dataframe tbody tr th {\n",
       "        vertical-align: top;\n",
       "    }\n",
       "\n",
       "    .dataframe thead th {\n",
       "        text-align: right;\n",
       "    }\n",
       "</style>\n",
       "<table border=\"1\" class=\"dataframe\">\n",
       "  <thead>\n",
       "    <tr style=\"text-align: right;\">\n",
       "      <th></th>\n",
       "      <th>Created at</th>\n",
       "      <th>User</th>\n",
       "      <th>Tweet</th>\n",
       "      <th>ID</th>\n",
       "      <th>Number of Retweets</th>\n",
       "      <th>Number of likes</th>\n",
       "      <th>Source</th>\n",
       "      <th>Location</th>\n",
       "      <th>Class</th>\n",
       "    </tr>\n",
       "  </thead>\n",
       "  <tbody>\n",
       "    <tr>\n",
       "      <th>0</th>\n",
       "      <td>2022-10-09 15:56:27+00:00</td>\n",
       "      <td>SPStavrosAuthor</td>\n",
       "      <td>I try to drink matcha over coffee because it helps with anxiety problems instead of making them worse</td>\n",
       "      <td>1.580000e+18</td>\n",
       "      <td>0</td>\n",
       "      <td>0</td>\n",
       "      <td>Twitter for Android</td>\n",
       "      <td>Canada</td>\n",
       "      <td>neutral</td>\n",
       "    </tr>\n",
       "    <tr>\n",
       "      <th>1</th>\n",
       "      <td>2022-10-09 15:54:44+00:00</td>\n",
       "      <td>dellianarose</td>\n",
       "      <td>Height 5‚Äô3‚Äù Age 29 Shoe Size 8 or 9 depending on the shoe Zodiac Sign Sagittarius Tattoos 1 Piercings 2‚Ä¶</td>\n",
       "      <td>1.580000e+18</td>\n",
       "      <td>0</td>\n",
       "      <td>0</td>\n",
       "      <td>Twitter for iPhone</td>\n",
       "      <td>Ottawa, Ontario</td>\n",
       "      <td>neutral</td>\n",
       "    </tr>\n",
       "    <tr>\n",
       "      <th>2</th>\n",
       "      <td>2022-10-09 15:36:25+00:00</td>\n",
       "      <td>DeeReads_</td>\n",
       "      <td>drink matcha and sin</td>\n",
       "      <td>1.580000e+18</td>\n",
       "      <td>0</td>\n",
       "      <td>1</td>\n",
       "      <td>Twitter Web App</td>\n",
       "      <td>NaN</td>\n",
       "      <td>neutral</td>\n",
       "    </tr>\n",
       "    <tr>\n",
       "      <th>3</th>\n",
       "      <td>2022-10-09 14:57:00+00:00</td>\n",
       "      <td>atasteofmadness</td>\n",
       "      <td>Easy Vanilla Matcha Chai Latte recipe This healthy warm comforting drink idea is vegan and gluten free perfect on‚Ä¶</td>\n",
       "      <td>1.580000e+18</td>\n",
       "      <td>1</td>\n",
       "      <td>0</td>\n",
       "      <td>Twitter Web App</td>\n",
       "      <td>Chicago, IL</td>\n",
       "      <td>neutral</td>\n",
       "    </tr>\n",
       "    <tr>\n",
       "      <th>4</th>\n",
       "      <td>2022-10-09 14:21:21+00:00</td>\n",
       "      <td>ogidigest</td>\n",
       "      <td>did you drink your oatly matcha latte today</td>\n",
       "      <td>1.580000e+18</td>\n",
       "      <td>0</td>\n",
       "      <td>0</td>\n",
       "      <td>Twitter Web App</td>\n",
       "      <td>NaN</td>\n",
       "      <td>neutral</td>\n",
       "    </tr>\n",
       "    <tr>\n",
       "      <th>5</th>\n",
       "      <td>2022-10-09 13:55:48+00:00</td>\n",
       "      <td>maryam_a201</td>\n",
       "      <td>Id rather drink beer than drink matcha</td>\n",
       "      <td>1.580000e+18</td>\n",
       "      <td>0</td>\n",
       "      <td>0</td>\n",
       "      <td>Twitter for iPhone</td>\n",
       "      <td>Rochester, NY</td>\n",
       "      <td>neutral</td>\n",
       "    </tr>\n",
       "    <tr>\n",
       "      <th>6</th>\n",
       "      <td>2022-10-09 13:28:29+00:00</td>\n",
       "      <td>fukuroumochi</td>\n",
       "      <td>5 tags 5 faves food SUKIYAKI üç≤ drink matcha latte üçµ color Seijoh color üíöü§ç is it mint green or turquoise b‚Ä¶</td>\n",
       "      <td>1.580000e+18</td>\n",
       "      <td>0</td>\n",
       "      <td>2</td>\n",
       "      <td>Twitter Web App</td>\n",
       "      <td>she/her ‚Ä¢ 25+</td>\n",
       "      <td>neutral</td>\n",
       "    </tr>\n",
       "    <tr>\n",
       "      <th>7</th>\n",
       "      <td>2022-10-09 13:02:19+00:00</td>\n",
       "      <td>fairyhrts</td>\n",
       "      <td>also i brought matcha cake but then they gave me lemon cake first they put no boba in my drink then‚Ä¶</td>\n",
       "      <td>1.580000e+18</td>\n",
       "      <td>0</td>\n",
       "      <td>1</td>\n",
       "      <td>Twitter Web App</td>\n",
       "      <td>any prns ‚ô° lesbian ‚òÜ‚òÖ\\nÔπïminor 17 Ô∏µ scorpioÔπëüç∞ ‚ú¶</td>\n",
       "      <td>neutral</td>\n",
       "    </tr>\n",
       "    <tr>\n",
       "      <th>8</th>\n",
       "      <td>2022-10-09 12:12:33+00:00</td>\n",
       "      <td>iwttham</td>\n",
       "      <td>food risotto or anything with rice really drink matcha üçµ or mint black tea color yellow season mayjune when it‚Ä¶</td>\n",
       "      <td>1.580000e+18</td>\n",
       "      <td>0</td>\n",
       "      <td>1</td>\n",
       "      <td>Twitter for iPhone</td>\n",
       "      <td>ü§ç‚ù§Ô∏èü§ç</td>\n",
       "      <td>neutral</td>\n",
       "    </tr>\n",
       "    <tr>\n",
       "      <th>9</th>\n",
       "      <td>2022-10-09 12:09:42+00:00</td>\n",
       "      <td>zxhravita</td>\n",
       "      <td>My mum calls matcha ‚Äúthat green drink‚Äù üòÇ</td>\n",
       "      <td>1.580000e+18</td>\n",
       "      <td>0</td>\n",
       "      <td>1</td>\n",
       "      <td>Twitter for iPhone</td>\n",
       "      <td>NaN</td>\n",
       "      <td>neutral</td>\n",
       "    </tr>\n",
       "    <tr>\n",
       "      <th>10</th>\n",
       "      <td>2022-10-09 10:16:36+00:00</td>\n",
       "      <td>piirtelen</td>\n",
       "      <td>thank you for the tag cheeseüíï 5 tags amp faves Food i don't have a 1 but would currently love some bbq after fore‚Ä¶</td>\n",
       "      <td>1.580000e+18</td>\n",
       "      <td>0</td>\n",
       "      <td>2</td>\n",
       "      <td>Twitter for Android</td>\n",
       "      <td>üá´üáÆ | they/them</td>\n",
       "      <td>neutral</td>\n",
       "    </tr>\n",
       "    <tr>\n",
       "      <th>11</th>\n",
       "      <td>2022-10-09 10:11:40+00:00</td>\n",
       "      <td>sirexyn</td>\n",
       "      <td>gonna drink matcha tonite</td>\n",
       "      <td>1.580000e+18</td>\n",
       "      <td>0</td>\n",
       "      <td>0</td>\n",
       "      <td>Twitter for Android</td>\n",
       "      <td>NaN</td>\n",
       "      <td>neutral</td>\n",
       "    </tr>\n",
       "    <tr>\n",
       "      <th>12</th>\n",
       "      <td>2022-10-09 10:00:55+00:00</td>\n",
       "      <td>MIDnightt_y</td>\n",
       "      <td>5 faves 5 tags üß° Food DESSERTS Drink Iced Tea or Matcha Color BlackWhite Season Winter Show Demon Slayer‚Ä¶</td>\n",
       "      <td>1.580000e+18</td>\n",
       "      <td>0</td>\n",
       "      <td>2</td>\n",
       "      <td>Twitter for Android</td>\n",
       "      <td>NaN</td>\n",
       "      <td>neutral</td>\n",
       "    </tr>\n",
       "    <tr>\n",
       "      <th>13</th>\n",
       "      <td>2022-10-09 09:08:23+00:00</td>\n",
       "      <td>MoodOfBig</td>\n",
       "      <td>Matcha by itself is nasty Especially if the drink is cold cuz the match powder doesn‚Äôt dissolve p‚Ä¶</td>\n",
       "      <td>1.580000e+18</td>\n",
       "      <td>0</td>\n",
       "      <td>8</td>\n",
       "      <td>Twitter for iPhone</td>\n",
       "      <td>Primordial Soup (He/him?)</td>\n",
       "      <td>neutral</td>\n",
       "    </tr>\n",
       "    <tr>\n",
       "      <th>14</th>\n",
       "      <td>2022-10-09 08:56:47+00:00</td>\n",
       "      <td>bonvertain</td>\n",
       "      <td>Did you have any fav's drink Exc Kopi susu gula aren Mine is caramel n matcha But i'd rather to choos‚Ä¶</td>\n",
       "      <td>1.580000e+18</td>\n",
       "      <td>0</td>\n",
       "      <td>0</td>\n",
       "      <td>Twitter for Android</td>\n",
       "      <td>unlabeled</td>\n",
       "      <td>neutral</td>\n",
       "    </tr>\n",
       "    <tr>\n",
       "      <th>15</th>\n",
       "      <td>2022-10-09 08:32:58+00:00</td>\n",
       "      <td>FuchsFeuer22763</td>\n",
       "      <td>There are so many great creations hidden in dreamshaping By chance I came across Matcha Crepe Cake by youplabooo‚Ä¶</td>\n",
       "      <td>1.580000e+18</td>\n",
       "      <td>0</td>\n",
       "      <td>0</td>\n",
       "      <td>Twitter Web App</td>\n",
       "      <td>Hamburg, Deutschland</td>\n",
       "      <td>neutral</td>\n",
       "    </tr>\n",
       "    <tr>\n",
       "      <th>16</th>\n",
       "      <td>2022-10-09 08:04:54+00:00</td>\n",
       "      <td>veefromthevault</td>\n",
       "      <td>I got a reading outfit today In the mood for a cafe read and a matcha drink‚Ä¶‚Ä¶ would feel so good rn</td>\n",
       "      <td>1.580000e+18</td>\n",
       "      <td>0</td>\n",
       "      <td>0</td>\n",
       "      <td>Twitter for iPhone</td>\n",
       "      <td>Arlington, TX</td>\n",
       "      <td>neutral</td>\n",
       "    </tr>\n",
       "    <tr>\n",
       "      <th>17</th>\n",
       "      <td>2022-10-09 07:49:17+00:00</td>\n",
       "      <td>febsal_</td>\n",
       "      <td>trying to come to terms w the fact that i will never love another matcha drink than the last matcha latte recipe fr‚Ä¶</td>\n",
       "      <td>1.580000e+18</td>\n",
       "      <td>0</td>\n",
       "      <td>1</td>\n",
       "      <td>Twitter for Android</td>\n",
       "      <td>NaN</td>\n",
       "      <td>neutral</td>\n",
       "    </tr>\n",
       "    <tr>\n",
       "      <th>18</th>\n",
       "      <td>2022-10-09 07:36:31+00:00</td>\n",
       "      <td>ChronHib</td>\n",
       "      <td>And of course foamy matcha Unfortunately I can hardly ever drink tea aft‚Ä¶</td>\n",
       "      <td>1.580000e+18</td>\n",
       "      <td>0</td>\n",
       "      <td>2</td>\n",
       "      <td>Twitter Web App</td>\n",
       "      <td>Maynooth University</td>\n",
       "      <td>neutral</td>\n",
       "    </tr>\n",
       "    <tr>\n",
       "      <th>19</th>\n",
       "      <td>2022-10-09 07:26:20+00:00</td>\n",
       "      <td>moiltishipper</td>\n",
       "      <td>took me ages to figure out my answers djdjdjdj Food Sinigang and Cacio e pepe Drink Matcha Latte and Orange Juic‚Ä¶</td>\n",
       "      <td>1.580000e+18</td>\n",
       "      <td>0</td>\n",
       "      <td>2</td>\n",
       "      <td>Twitter for Android</td>\n",
       "      <td>breakdown city</td>\n",
       "      <td>neutral</td>\n",
       "    </tr>\n",
       "  </tbody>\n",
       "</table>\n",
       "</div>"
      ],
      "text/plain": [
       "                   Created at             User  \\\n",
       "0   2022-10-09 15:56:27+00:00  SPStavrosAuthor   \n",
       "1   2022-10-09 15:54:44+00:00     dellianarose   \n",
       "2   2022-10-09 15:36:25+00:00        DeeReads_   \n",
       "3   2022-10-09 14:57:00+00:00  atasteofmadness   \n",
       "4   2022-10-09 14:21:21+00:00        ogidigest   \n",
       "5   2022-10-09 13:55:48+00:00      maryam_a201   \n",
       "6   2022-10-09 13:28:29+00:00     fukuroumochi   \n",
       "7   2022-10-09 13:02:19+00:00        fairyhrts   \n",
       "8   2022-10-09 12:12:33+00:00          iwttham   \n",
       "9   2022-10-09 12:09:42+00:00        zxhravita   \n",
       "10  2022-10-09 10:16:36+00:00        piirtelen   \n",
       "11  2022-10-09 10:11:40+00:00          sirexyn   \n",
       "12  2022-10-09 10:00:55+00:00      MIDnightt_y   \n",
       "13  2022-10-09 09:08:23+00:00        MoodOfBig   \n",
       "14  2022-10-09 08:56:47+00:00       bonvertain   \n",
       "15  2022-10-09 08:32:58+00:00  FuchsFeuer22763   \n",
       "16  2022-10-09 08:04:54+00:00  veefromthevault   \n",
       "17  2022-10-09 07:49:17+00:00          febsal_   \n",
       "18  2022-10-09 07:36:31+00:00         ChronHib   \n",
       "19  2022-10-09 07:26:20+00:00    moiltishipper   \n",
       "\n",
       "                                                                                                                       Tweet  \\\n",
       "0                      I try to drink matcha over coffee because it helps with anxiety problems instead of making them worse   \n",
       "1             Height 5‚Äô3‚Äù Age 29 Shoe Size 8 or 9 depending on the shoe Zodiac Sign Sagittarius Tattoos 1 Piercings 2‚Ä¶   \n",
       "2                                                                                                       drink matcha and sin   \n",
       "3       Easy Vanilla Matcha Chai Latte recipe This healthy warm comforting drink idea is vegan and gluten free perfect on‚Ä¶   \n",
       "4                                                                                did you drink your oatly matcha latte today   \n",
       "5                                                                                     Id rather drink beer than drink matcha   \n",
       "6   5 tags 5 faves food SUKIYAKI üç≤ drink matcha latte üçµ color Seijoh color üíöü§ç is it mint green or turquoise b‚Ä¶   \n",
       "7                     also i brought matcha cake but then they gave me lemon cake first they put no boba in my drink then‚Ä¶   \n",
       "8       food risotto or anything with rice really drink matcha üçµ or mint black tea color yellow season mayjune when it‚Ä¶   \n",
       "9                                                                            My mum calls matcha ‚Äúthat green drink‚Äù üòÇ   \n",
       "10   thank you for the tag cheeseüíï 5 tags amp faves Food i don't have a 1 but would currently love some bbq after fore‚Ä¶   \n",
       "11                                                                                                 gonna drink matcha tonite   \n",
       "12            5 faves 5 tags üß° Food DESSERTS Drink Iced Tea or Matcha Color BlackWhite Season Winter Show Demon Slayer‚Ä¶   \n",
       "13                    Matcha by itself is nasty Especially if the drink is cold cuz the match powder doesn‚Äôt dissolve p‚Ä¶   \n",
       "14                  Did you have any fav's drink Exc Kopi susu gula aren Mine is caramel n matcha But i'd rather to choos‚Ä¶   \n",
       "15       There are so many great creations hidden in dreamshaping By chance I came across Matcha Crepe Cake by youplabooo‚Ä¶   \n",
       "16                   I got a reading outfit today In the mood for a cafe read and a matcha drink‚Ä¶‚Ä¶ would feel so good rn   \n",
       "17    trying to come to terms w the fact that i will never love another matcha drink than the last matcha latte recipe fr‚Ä¶   \n",
       "18                                               And of course foamy matcha Unfortunately I can hardly ever drink tea aft‚Ä¶   \n",
       "19       took me ages to figure out my answers djdjdjdj Food Sinigang and Cacio e pepe Drink Matcha Latte and Orange Juic‚Ä¶   \n",
       "\n",
       "              ID  Number of Retweets  Number of likes               Source  \\\n",
       "0   1.580000e+18                   0                0  Twitter for Android   \n",
       "1   1.580000e+18                   0                0   Twitter for iPhone   \n",
       "2   1.580000e+18                   0                1      Twitter Web App   \n",
       "3   1.580000e+18                   1                0      Twitter Web App   \n",
       "4   1.580000e+18                   0                0      Twitter Web App   \n",
       "5   1.580000e+18                   0                0   Twitter for iPhone   \n",
       "6   1.580000e+18                   0                2      Twitter Web App   \n",
       "7   1.580000e+18                   0                1      Twitter Web App   \n",
       "8   1.580000e+18                   0                1   Twitter for iPhone   \n",
       "9   1.580000e+18                   0                1   Twitter for iPhone   \n",
       "10  1.580000e+18                   0                2  Twitter for Android   \n",
       "11  1.580000e+18                   0                0  Twitter for Android   \n",
       "12  1.580000e+18                   0                2  Twitter for Android   \n",
       "13  1.580000e+18                   0                8   Twitter for iPhone   \n",
       "14  1.580000e+18                   0                0  Twitter for Android   \n",
       "15  1.580000e+18                   0                0      Twitter Web App   \n",
       "16  1.580000e+18                   0                0   Twitter for iPhone   \n",
       "17  1.580000e+18                   0                1  Twitter for Android   \n",
       "18  1.580000e+18                   0                2      Twitter Web App   \n",
       "19  1.580000e+18                   0                2  Twitter for Android   \n",
       "\n",
       "                                                           Location    Class  \n",
       "0                                                            Canada  neutral  \n",
       "1                                                   Ottawa, Ontario  neutral  \n",
       "2                                                               NaN  neutral  \n",
       "3                                                       Chicago, IL  neutral  \n",
       "4                                                               NaN  neutral  \n",
       "5                                                     Rochester, NY  neutral  \n",
       "6                                                   she/her ‚Ä¢ 25+  neutral  \n",
       "7   any prns ‚ô° lesbian ‚òÜ‚òÖ\\nÔπïminor 17 Ô∏µ scorpioÔπëüç∞ ‚ú¶  neutral  \n",
       "8                                                    ü§ç‚ù§Ô∏èü§ç  neutral  \n",
       "9                                                               NaN  neutral  \n",
       "10                                             üá´üáÆ | they/them  neutral  \n",
       "11                                                              NaN  neutral  \n",
       "12                                                              NaN  neutral  \n",
       "13                                        Primordial Soup (He/him?)  neutral  \n",
       "14                                                        unlabeled  neutral  \n",
       "15                                             Hamburg, Deutschland  neutral  \n",
       "16                                                    Arlington, TX  neutral  \n",
       "17                                                              NaN  neutral  \n",
       "18                                              Maynooth University  neutral  \n",
       "19                                                   breakdown city  neutral  "
      ]
     },
     "execution_count": 10,
     "metadata": {},
     "output_type": "execute_result"
    }
   ],
   "source": [
    "df.head(20)"
   ]
  },
  {
   "cell_type": "code",
   "execution_count": 11,
   "id": "f6e4cee7",
   "metadata": {},
   "outputs": [
    {
     "name": "stdout",
     "output_type": "stream",
     "text": [
      "0\n"
     ]
    }
   ],
   "source": [
    "# number of 'positive' tweet rows\n",
    "countPositive = df['Class'].str.contains('positive', na=False).sum()\n",
    "print(countPositive)"
   ]
  },
  {
   "cell_type": "code",
   "execution_count": 12,
   "id": "b03d7a5f",
   "metadata": {},
   "outputs": [
    {
     "name": "stdout",
     "output_type": "stream",
     "text": [
      "0\n"
     ]
    }
   ],
   "source": [
    "# number of 'Negative' tweet rows\n",
    "countNegative = df['Class'].str.contains('negative', na=False).sum()\n",
    "print(countNegative)"
   ]
  },
  {
   "cell_type": "code",
   "execution_count": 13,
   "id": "99abb482",
   "metadata": {},
   "outputs": [
    {
     "name": "stdout",
     "output_type": "stream",
     "text": [
      "2836\n"
     ]
    }
   ],
   "source": [
    "# number of 'Neutral' tweet rows\n",
    "countNeutral = df['Class'].str.contains('neutral', na=False).sum()\n",
    "print(countNeutral)"
   ]
  },
  {
   "cell_type": "markdown",
   "id": "dac26457",
   "metadata": {},
   "source": [
    "# Descriptive"
   ]
  },
  {
   "cell_type": "code",
   "execution_count": null,
   "id": "7adc4f61",
   "metadata": {},
   "outputs": [],
   "source": []
  },
  {
   "cell_type": "markdown",
   "id": "74a8998b",
   "metadata": {},
   "source": [
    "# Predictive"
   ]
  },
  {
   "cell_type": "markdown",
   "id": "121e97f3",
   "metadata": {},
   "source": [
    "## Models preparation"
   ]
  },
  {
   "cell_type": "code",
   "execution_count": 14,
   "id": "bb34b07f",
   "metadata": {},
   "outputs": [],
   "source": [
    "# import Libraries\n",
    "import pandas as pd\n",
    "import numpy as np\n",
    "import matplotlib.pyplot as plt\n",
    "import seaborn as sns\n",
    "\n",
    "from sklearn import metrics, svm\n",
    "from sklearn.feature_extraction.text import TfidfVectorizer\n",
    "from sklearn.model_selection import train_test_split, cross_val_score\n",
    "from sklearn.linear_model import LogisticRegression\n",
    "from sklearn.metrics import classification_report, confusion_matrix\n",
    "from sklearn.naive_bayes import MultinomialNB\n",
    "\n",
    "# Display the tweet fully using:\n",
    "pd.set_option('display.max_colwidth', None)\n",
    "pd.set_option('max_colwidth', None)"
   ]
  },
  {
   "cell_type": "code",
   "execution_count": 15,
   "id": "b21ec04d",
   "metadata": {},
   "outputs": [],
   "source": [
    "#choose columns\n",
    "fields = ['Tweet', 'Sentiment']\n",
    "#read the two columns from the file and drop the null values\n",
    "df = pd.read_csv('ClassifiedMatchDS.csv', skipinitialspace=True, usecols=fields).dropna()\n"
   ]
  },
  {
   "cell_type": "code",
   "execution_count": 16,
   "id": "41b60ba4",
   "metadata": {},
   "outputs": [
    {
     "name": "stdout",
     "output_type": "stream",
     "text": [
      "1994\n"
     ]
    }
   ],
   "source": [
    "# number of 'positive' tweet rows\n",
    "countPositive = df['Sentiment'].str.contains('positive', na=False).sum()\n",
    "print(countPositive)"
   ]
  },
  {
   "cell_type": "code",
   "execution_count": 17,
   "id": "89d6e57d",
   "metadata": {},
   "outputs": [
    {
     "name": "stdout",
     "output_type": "stream",
     "text": [
      "200\n"
     ]
    }
   ],
   "source": [
    "# number of 'Negative' tweet rows\n",
    "countNegative = df['Sentiment'].str.contains('negative', na=False).sum()\n",
    "print(countNegative)"
   ]
  },
  {
   "cell_type": "code",
   "execution_count": 18,
   "id": "0d5f8ea9",
   "metadata": {},
   "outputs": [
    {
     "name": "stdout",
     "output_type": "stream",
     "text": [
      "368\n"
     ]
    }
   ],
   "source": [
    "# number of 'Neutral' tweet rows\n",
    "countNeutral = df['Sentiment'].str.contains('neutral', na=False).sum()\n",
    "print(countNeutral)"
   ]
  },
  {
   "cell_type": "code",
   "execution_count": 19,
   "id": "98371ab5",
   "metadata": {},
   "outputs": [],
   "source": [
    "#remove neutral rows, they wouldn't help\n",
    "df=df[df['Sentiment']!='neutral']"
   ]
  },
  {
   "cell_type": "code",
   "execution_count": 20,
   "id": "32fcccd3",
   "metadata": {},
   "outputs": [],
   "source": [
    "#change sentiment values to numeric \n",
    "df['Sentiment'] = df['Sentiment'].map({'positive':1, 'negative':0})"
   ]
  },
  {
   "cell_type": "code",
   "execution_count": 21,
   "id": "58f90cee",
   "metadata": {},
   "outputs": [],
   "source": [
    "#identfy the tweets and the lables\n",
    "tweets= df['Tweet']\n",
    "lables= df['Sentiment']"
   ]
  },
  {
   "cell_type": "code",
   "execution_count": 22,
   "id": "a3bdf84a",
   "metadata": {},
   "outputs": [
    {
     "data": {
      "text/plain": [
       "(2194, 4652)"
      ]
     },
     "execution_count": 22,
     "metadata": {},
     "output_type": "execute_result"
    }
   ],
   "source": [
    "#Convert textual data to numeric form\n",
    "tf_vec=TfidfVectorizer()\n",
    "x=tf_vec.fit_transform(tweets)\n",
    "x.shape\n"
   ]
  },
  {
   "cell_type": "code",
   "execution_count": 23,
   "id": "3193c201",
   "metadata": {},
   "outputs": [
    {
     "name": "stdout",
     "output_type": "stream",
     "text": [
      "(1535, 4652) (659, 4652) (1535,) (659,)\n"
     ]
    }
   ],
   "source": [
    "\n",
    "#Training phase\n",
    "x_train,x_test, y_train, y_test= train_test_split(x, lables, test_size=0.3, shuffle=True, random_state=0)\n",
    "\n",
    "print(x_train.shape,x_test.shape, y_train.shape, y_test.shape)"
   ]
  },
  {
   "cell_type": "markdown",
   "id": "1d4a6dcf",
   "metadata": {},
   "source": [
    "## Model#1 [Logistic Regression]"
   ]
  },
  {
   "cell_type": "code",
   "execution_count": 24,
   "id": "0bd4790c",
   "metadata": {},
   "outputs": [
    {
     "name": "stdout",
     "output_type": "stream",
     "text": [
      "LogisticRegression accuracy: 0.90\n"
     ]
    }
   ],
   "source": [
    "# build the logistic regression classifier\n",
    "# use the training data to train the estimator\n",
    "classifier_log = LogisticRegression().fit(x_train,y_train)\n",
    "\n",
    "\n",
    "print(\"LogisticRegression accuracy: %.2f\" % classifier_log.score(x_test, y_test))\n"
   ]
  },
  {
   "cell_type": "code",
   "execution_count": 25,
   "id": "a033c6c1",
   "metadata": {},
   "outputs": [
    {
     "name": "stderr",
     "output_type": "stream",
     "text": [
      "/Users/raneemalrashoud/opt/anaconda3/lib/python3.9/site-packages/sklearn/utils/validation.py:727: FutureWarning: np.matrix usage is deprecated in 1.0 and will raise a TypeError in 1.2. Please convert to a numpy array with np.asarray. For more information see: https://numpy.org/doc/stable/reference/generated/numpy.matrix.html\n",
      "  warnings.warn(\n",
      "/Users/raneemalrashoud/opt/anaconda3/lib/python3.9/site-packages/sklearn/utils/validation.py:727: FutureWarning: np.matrix usage is deprecated in 1.0 and will raise a TypeError in 1.2. Please convert to a numpy array with np.asarray. For more information see: https://numpy.org/doc/stable/reference/generated/numpy.matrix.html\n",
      "  warnings.warn(\n",
      "/Users/raneemalrashoud/opt/anaconda3/lib/python3.9/site-packages/sklearn/utils/validation.py:727: FutureWarning: np.matrix usage is deprecated in 1.0 and will raise a TypeError in 1.2. Please convert to a numpy array with np.asarray. For more information see: https://numpy.org/doc/stable/reference/generated/numpy.matrix.html\n",
      "  warnings.warn(\n",
      "/Users/raneemalrashoud/opt/anaconda3/lib/python3.9/site-packages/sklearn/utils/validation.py:727: FutureWarning: np.matrix usage is deprecated in 1.0 and will raise a TypeError in 1.2. Please convert to a numpy array with np.asarray. For more information see: https://numpy.org/doc/stable/reference/generated/numpy.matrix.html\n",
      "  warnings.warn(\n",
      "/Users/raneemalrashoud/opt/anaconda3/lib/python3.9/site-packages/sklearn/utils/validation.py:727: FutureWarning: np.matrix usage is deprecated in 1.0 and will raise a TypeError in 1.2. Please convert to a numpy array with np.asarray. For more information see: https://numpy.org/doc/stable/reference/generated/numpy.matrix.html\n",
      "  warnings.warn(\n",
      "/Users/raneemalrashoud/opt/anaconda3/lib/python3.9/site-packages/sklearn/utils/validation.py:727: FutureWarning: np.matrix usage is deprecated in 1.0 and will raise a TypeError in 1.2. Please convert to a numpy array with np.asarray. For more information see: https://numpy.org/doc/stable/reference/generated/numpy.matrix.html\n",
      "  warnings.warn(\n",
      "/Users/raneemalrashoud/opt/anaconda3/lib/python3.9/site-packages/sklearn/utils/validation.py:727: FutureWarning: np.matrix usage is deprecated in 1.0 and will raise a TypeError in 1.2. Please convert to a numpy array with np.asarray. For more information see: https://numpy.org/doc/stable/reference/generated/numpy.matrix.html\n",
      "  warnings.warn(\n",
      "/Users/raneemalrashoud/opt/anaconda3/lib/python3.9/site-packages/sklearn/utils/validation.py:727: FutureWarning: np.matrix usage is deprecated in 1.0 and will raise a TypeError in 1.2. Please convert to a numpy array with np.asarray. For more information see: https://numpy.org/doc/stable/reference/generated/numpy.matrix.html\n",
      "  warnings.warn(\n",
      "/Users/raneemalrashoud/opt/anaconda3/lib/python3.9/site-packages/sklearn/utils/validation.py:727: FutureWarning: np.matrix usage is deprecated in 1.0 and will raise a TypeError in 1.2. Please convert to a numpy array with np.asarray. For more information see: https://numpy.org/doc/stable/reference/generated/numpy.matrix.html\n",
      "  warnings.warn(\n",
      "/Users/raneemalrashoud/opt/anaconda3/lib/python3.9/site-packages/sklearn/utils/validation.py:727: FutureWarning: np.matrix usage is deprecated in 1.0 and will raise a TypeError in 1.2. Please convert to a numpy array with np.asarray. For more information see: https://numpy.org/doc/stable/reference/generated/numpy.matrix.html\n",
      "  warnings.warn(\n",
      "/Users/raneemalrashoud/opt/anaconda3/lib/python3.9/site-packages/sklearn/utils/validation.py:727: FutureWarning: np.matrix usage is deprecated in 1.0 and will raise a TypeError in 1.2. Please convert to a numpy array with np.asarray. For more information see: https://numpy.org/doc/stable/reference/generated/numpy.matrix.html\n",
      "  warnings.warn(\n",
      "/Users/raneemalrashoud/opt/anaconda3/lib/python3.9/site-packages/sklearn/utils/validation.py:727: FutureWarning: np.matrix usage is deprecated in 1.0 and will raise a TypeError in 1.2. Please convert to a numpy array with np.asarray. For more information see: https://numpy.org/doc/stable/reference/generated/numpy.matrix.html\n",
      "  warnings.warn(\n",
      "/Users/raneemalrashoud/opt/anaconda3/lib/python3.9/site-packages/sklearn/utils/validation.py:727: FutureWarning: np.matrix usage is deprecated in 1.0 and will raise a TypeError in 1.2. Please convert to a numpy array with np.asarray. For more information see: https://numpy.org/doc/stable/reference/generated/numpy.matrix.html\n",
      "  warnings.warn(\n",
      "/Users/raneemalrashoud/opt/anaconda3/lib/python3.9/site-packages/sklearn/utils/validation.py:727: FutureWarning: np.matrix usage is deprecated in 1.0 and will raise a TypeError in 1.2. Please convert to a numpy array with np.asarray. For more information see: https://numpy.org/doc/stable/reference/generated/numpy.matrix.html\n",
      "  warnings.warn(\n",
      "/Users/raneemalrashoud/opt/anaconda3/lib/python3.9/site-packages/sklearn/utils/validation.py:727: FutureWarning: np.matrix usage is deprecated in 1.0 and will raise a TypeError in 1.2. Please convert to a numpy array with np.asarray. For more information see: https://numpy.org/doc/stable/reference/generated/numpy.matrix.html\n",
      "  warnings.warn(\n",
      "/Users/raneemalrashoud/opt/anaconda3/lib/python3.9/site-packages/sklearn/utils/validation.py:727: FutureWarning: np.matrix usage is deprecated in 1.0 and will raise a TypeError in 1.2. Please convert to a numpy array with np.asarray. For more information see: https://numpy.org/doc/stable/reference/generated/numpy.matrix.html\n",
      "  warnings.warn(\n",
      "/Users/raneemalrashoud/opt/anaconda3/lib/python3.9/site-packages/sklearn/utils/validation.py:727: FutureWarning: np.matrix usage is deprecated in 1.0 and will raise a TypeError in 1.2. Please convert to a numpy array with np.asarray. For more information see: https://numpy.org/doc/stable/reference/generated/numpy.matrix.html\n",
      "  warnings.warn(\n",
      "/Users/raneemalrashoud/opt/anaconda3/lib/python3.9/site-packages/sklearn/utils/validation.py:727: FutureWarning: np.matrix usage is deprecated in 1.0 and will raise a TypeError in 1.2. Please convert to a numpy array with np.asarray. For more information see: https://numpy.org/doc/stable/reference/generated/numpy.matrix.html\n",
      "  warnings.warn(\n",
      "/Users/raneemalrashoud/opt/anaconda3/lib/python3.9/site-packages/sklearn/utils/validation.py:727: FutureWarning: np.matrix usage is deprecated in 1.0 and will raise a TypeError in 1.2. Please convert to a numpy array with np.asarray. For more information see: https://numpy.org/doc/stable/reference/generated/numpy.matrix.html\n",
      "  warnings.warn(\n"
     ]
    },
    {
     "name": "stdout",
     "output_type": "stream",
     "text": [
      "\n",
      "10-fold cross-validation:\n",
      "[0.90909091 0.90909091 0.90909091 0.90909091 0.9086758  0.9086758\n",
      " 0.9086758  0.9086758  0.9086758  0.9086758 ]\n"
     ]
    },
    {
     "name": "stderr",
     "output_type": "stream",
     "text": [
      "/Users/raneemalrashoud/opt/anaconda3/lib/python3.9/site-packages/sklearn/utils/validation.py:727: FutureWarning: np.matrix usage is deprecated in 1.0 and will raise a TypeError in 1.2. Please convert to a numpy array with np.asarray. For more information see: https://numpy.org/doc/stable/reference/generated/numpy.matrix.html\n",
      "  warnings.warn(\n"
     ]
    }
   ],
   "source": [
    "# Validation methods\n",
    "#do a 10 fold cross-validation \n",
    "results_log = cross_val_score(classifier_log, x.todense(),lables, cv=10)\n",
    "print(\"\\n10-fold cross-validation:\")\n",
    "print(results_log)"
   ]
  },
  {
   "cell_type": "code",
   "execution_count": 26,
   "id": "74f5f4d4",
   "metadata": {},
   "outputs": [
    {
     "name": "stdout",
     "output_type": "stream",
     "text": [
      "\n",
      "Confusion matrix of the LogisticRegression classifier:\n",
      "[[  0  65]\n",
      " [  0 594]]\n"
     ]
    },
    {
     "data": {
      "image/png": "[encoded data removed]",
      "text/plain": [
       "<Figure size 504x432 with 2 Axes>"
      ]
     },
     "metadata": {
      "needs_background": "light"
     },
     "output_type": "display_data"
    }
   ],
   "source": [
    "#print confusion matrix\n",
    "print(\"\\nConfusion matrix of the LogisticRegression classifier:\")\n",
    "predicted_log = classifier_log.predict(x_test)\n",
    "print(confusion_matrix(y_test,predicted_log))\n",
    "\n",
    "cm = confusion_matrix(y_test,predicted_log)\n",
    "cm_df = pd.DataFrame(cm,\n",
    "                     index = ['1','0'], \n",
    "                     columns = ['1','0'])\n",
    "plt.figure(figsize=(7,6))\n",
    "sns.heatmap(cm_df, annot=True, cmap='PuBuGn')\n",
    "plt.title('Confusion Matrix')\n",
    "plt.ylabel('Actal Values')\n",
    "plt.xlabel('Predicted Values')\n",
    "plt.show()"
   ]
  },
  {
   "cell_type": "code",
   "execution_count": 27,
   "id": "db269f77",
   "metadata": {},
   "outputs": [
    {
     "name": "stdout",
     "output_type": "stream",
     "text": [
      "\n",
      "Classification_report of LogisticRegression classifier:\n",
      "              precision    recall  f1-score   support\n",
      "\n",
      "           0       0.00      0.00      0.00        65\n",
      "           1       0.90      1.00      0.95       594\n",
      "\n",
      "    accuracy                           0.90       659\n",
      "   macro avg       0.45      0.50      0.47       659\n",
      "weighted avg       0.81      0.90      0.85       659\n",
      "\n",
      "----------------------------------------------------------------------------\n"
     ]
    },
    {
     "name": "stderr",
     "output_type": "stream",
     "text": [
      "/Users/raneemalrashoud/opt/anaconda3/lib/python3.9/site-packages/sklearn/metrics/_classification.py:1334: UndefinedMetricWarning: Precision and F-score are ill-defined and being set to 0.0 in labels with no predicted samples. Use `zero_division` parameter to control this behavior.\n",
      "  _warn_prf(average, modifier, msg_start, len(result))\n",
      "/Users/raneemalrashoud/opt/anaconda3/lib/python3.9/site-packages/sklearn/metrics/_classification.py:1334: UndefinedMetricWarning: Precision and F-score are ill-defined and being set to 0.0 in labels with no predicted samples. Use `zero_division` parameter to control this behavior.\n",
      "  _warn_prf(average, modifier, msg_start, len(result))\n",
      "/Users/raneemalrashoud/opt/anaconda3/lib/python3.9/site-packages/sklearn/metrics/_classification.py:1334: UndefinedMetricWarning: Precision and F-score are ill-defined and being set to 0.0 in labels with no predicted samples. Use `zero_division` parameter to control this behavior.\n",
      "  _warn_prf(average, modifier, msg_start, len(result))\n"
     ]
    }
   ],
   "source": [
    "\n",
    "#print Classification report\n",
    "print(\"\\nClassification_report of LogisticRegression classifier:\")\n",
    "print(classification_report(y_test,predicted_log))\n",
    "print(\"----------------------------------------------------------------------------\")"
   ]
  },
  {
   "cell_type": "code",
   "execution_count": 28,
   "id": "16e6ac30",
   "metadata": {},
   "outputs": [
    {
     "name": "stderr",
     "output_type": "stream",
     "text": [
      "/Users/raneemalrashoud/opt/anaconda3/lib/python3.9/site-packages/sklearn/utils/validation.py:727: FutureWarning: np.matrix usage is deprecated in 1.0 and will raise a TypeError in 1.2. Please convert to a numpy array with np.asarray. For more information see: https://numpy.org/doc/stable/reference/generated/numpy.matrix.html\n",
      "  warnings.warn(\n",
      "/Users/raneemalrashoud/opt/anaconda3/lib/python3.9/site-packages/sklearn/utils/validation.py:727: FutureWarning: np.matrix usage is deprecated in 1.0 and will raise a TypeError in 1.2. Please convert to a numpy array with np.asarray. For more information see: https://numpy.org/doc/stable/reference/generated/numpy.matrix.html\n",
      "  warnings.warn(\n",
      "/Users/raneemalrashoud/opt/anaconda3/lib/python3.9/site-packages/sklearn/utils/validation.py:727: FutureWarning: np.matrix usage is deprecated in 1.0 and will raise a TypeError in 1.2. Please convert to a numpy array with np.asarray. For more information see: https://numpy.org/doc/stable/reference/generated/numpy.matrix.html\n",
      "  warnings.warn(\n",
      "/Users/raneemalrashoud/opt/anaconda3/lib/python3.9/site-packages/sklearn/utils/validation.py:727: FutureWarning: np.matrix usage is deprecated in 1.0 and will raise a TypeError in 1.2. Please convert to a numpy array with np.asarray. For more information see: https://numpy.org/doc/stable/reference/generated/numpy.matrix.html\n",
      "  warnings.warn(\n",
      "/Users/raneemalrashoud/opt/anaconda3/lib/python3.9/site-packages/sklearn/utils/validation.py:727: FutureWarning: np.matrix usage is deprecated in 1.0 and will raise a TypeError in 1.2. Please convert to a numpy array with np.asarray. For more information see: https://numpy.org/doc/stable/reference/generated/numpy.matrix.html\n",
      "  warnings.warn(\n",
      "/Users/raneemalrashoud/opt/anaconda3/lib/python3.9/site-packages/sklearn/utils/validation.py:727: FutureWarning: np.matrix usage is deprecated in 1.0 and will raise a TypeError in 1.2. Please convert to a numpy array with np.asarray. For more information see: https://numpy.org/doc/stable/reference/generated/numpy.matrix.html\n",
      "  warnings.warn(\n",
      "/Users/raneemalrashoud/opt/anaconda3/lib/python3.9/site-packages/sklearn/utils/validation.py:727: FutureWarning: np.matrix usage is deprecated in 1.0 and will raise a TypeError in 1.2. Please convert to a numpy array with np.asarray. For more information see: https://numpy.org/doc/stable/reference/generated/numpy.matrix.html\n",
      "  warnings.warn(\n",
      "/Users/raneemalrashoud/opt/anaconda3/lib/python3.9/site-packages/sklearn/utils/validation.py:727: FutureWarning: np.matrix usage is deprecated in 1.0 and will raise a TypeError in 1.2. Please convert to a numpy array with np.asarray. For more information see: https://numpy.org/doc/stable/reference/generated/numpy.matrix.html\n",
      "  warnings.warn(\n",
      "/Users/raneemalrashoud/opt/anaconda3/lib/python3.9/site-packages/sklearn/utils/validation.py:727: FutureWarning: np.matrix usage is deprecated in 1.0 and will raise a TypeError in 1.2. Please convert to a numpy array with np.asarray. For more information see: https://numpy.org/doc/stable/reference/generated/numpy.matrix.html\n",
      "  warnings.warn(\n",
      "/Users/raneemalrashoud/opt/anaconda3/lib/python3.9/site-packages/sklearn/utils/validation.py:727: FutureWarning: np.matrix usage is deprecated in 1.0 and will raise a TypeError in 1.2. Please convert to a numpy array with np.asarray. For more information see: https://numpy.org/doc/stable/reference/generated/numpy.matrix.html\n",
      "  warnings.warn(\n",
      "/Users/raneemalrashoud/opt/anaconda3/lib/python3.9/site-packages/sklearn/utils/validation.py:727: FutureWarning: np.matrix usage is deprecated in 1.0 and will raise a TypeError in 1.2. Please convert to a numpy array with np.asarray. For more information see: https://numpy.org/doc/stable/reference/generated/numpy.matrix.html\n",
      "  warnings.warn(\n",
      "/Users/raneemalrashoud/opt/anaconda3/lib/python3.9/site-packages/sklearn/utils/validation.py:727: FutureWarning: np.matrix usage is deprecated in 1.0 and will raise a TypeError in 1.2. Please convert to a numpy array with np.asarray. For more information see: https://numpy.org/doc/stable/reference/generated/numpy.matrix.html\n",
      "  warnings.warn(\n",
      "/Users/raneemalrashoud/opt/anaconda3/lib/python3.9/site-packages/sklearn/utils/validation.py:727: FutureWarning: np.matrix usage is deprecated in 1.0 and will raise a TypeError in 1.2. Please convert to a numpy array with np.asarray. For more information see: https://numpy.org/doc/stable/reference/generated/numpy.matrix.html\n",
      "  warnings.warn(\n",
      "/Users/raneemalrashoud/opt/anaconda3/lib/python3.9/site-packages/sklearn/utils/validation.py:727: FutureWarning: np.matrix usage is deprecated in 1.0 and will raise a TypeError in 1.2. Please convert to a numpy array with np.asarray. For more information see: https://numpy.org/doc/stable/reference/generated/numpy.matrix.html\n",
      "  warnings.warn(\n",
      "/Users/raneemalrashoud/opt/anaconda3/lib/python3.9/site-packages/sklearn/utils/validation.py:727: FutureWarning: np.matrix usage is deprecated in 1.0 and will raise a TypeError in 1.2. Please convert to a numpy array with np.asarray. For more information see: https://numpy.org/doc/stable/reference/generated/numpy.matrix.html\n",
      "  warnings.warn(\n",
      "/Users/raneemalrashoud/opt/anaconda3/lib/python3.9/site-packages/sklearn/utils/validation.py:727: FutureWarning: np.matrix usage is deprecated in 1.0 and will raise a TypeError in 1.2. Please convert to a numpy array with np.asarray. For more information see: https://numpy.org/doc/stable/reference/generated/numpy.matrix.html\n",
      "  warnings.warn(\n",
      "/Users/raneemalrashoud/opt/anaconda3/lib/python3.9/site-packages/sklearn/utils/validation.py:727: FutureWarning: np.matrix usage is deprecated in 1.0 and will raise a TypeError in 1.2. Please convert to a numpy array with np.asarray. For more information see: https://numpy.org/doc/stable/reference/generated/numpy.matrix.html\n",
      "  warnings.warn(\n",
      "/Users/raneemalrashoud/opt/anaconda3/lib/python3.9/site-packages/sklearn/utils/validation.py:727: FutureWarning: np.matrix usage is deprecated in 1.0 and will raise a TypeError in 1.2. Please convert to a numpy array with np.asarray. For more information see: https://numpy.org/doc/stable/reference/generated/numpy.matrix.html\n",
      "  warnings.warn(\n",
      "/Users/raneemalrashoud/opt/anaconda3/lib/python3.9/site-packages/sklearn/utils/validation.py:727: FutureWarning: np.matrix usage is deprecated in 1.0 and will raise a TypeError in 1.2. Please convert to a numpy array with np.asarray. For more information see: https://numpy.org/doc/stable/reference/generated/numpy.matrix.html\n",
      "  warnings.warn(\n"
     ]
    },
    {
     "name": "stdout",
     "output_type": "stream",
     "text": [
      "\n",
      "10-fold cross-validation:\n",
      "[0.90909091 0.90909091 0.90909091 0.90909091 0.9086758  0.9086758\n",
      " 0.9086758  0.9086758  0.9086758  0.9086758 ]\n",
      "The average accuracy of the LogisticRegression classifier is : 0.91\n",
      "\n",
      "Confusion matrix of the LogisticRegression classifier:\n",
      "[[  0  65]\n",
      " [  0 594]]\n",
      "\n",
      "Classification_report of LogisticRegression classifier:\n",
      "              precision    recall  f1-score   support\n",
      "\n",
      "           0       0.00      0.00      0.00        65\n",
      "           1       0.90      1.00      0.95       594\n",
      "\n",
      "    accuracy                           0.90       659\n",
      "   macro avg       0.45      0.50      0.47       659\n",
      "weighted avg       0.81      0.90      0.85       659\n",
      "\n",
      "----------------------------------------------------------------------------\n"
     ]
    },
    {
     "name": "stderr",
     "output_type": "stream",
     "text": [
      "/Users/raneemalrashoud/opt/anaconda3/lib/python3.9/site-packages/sklearn/utils/validation.py:727: FutureWarning: np.matrix usage is deprecated in 1.0 and will raise a TypeError in 1.2. Please convert to a numpy array with np.asarray. For more information see: https://numpy.org/doc/stable/reference/generated/numpy.matrix.html\n",
      "  warnings.warn(\n",
      "/Users/raneemalrashoud/opt/anaconda3/lib/python3.9/site-packages/sklearn/metrics/_classification.py:1334: UndefinedMetricWarning: Precision and F-score are ill-defined and being set to 0.0 in labels with no predicted samples. Use `zero_division` parameter to control this behavior.\n",
      "  _warn_prf(average, modifier, msg_start, len(result))\n",
      "/Users/raneemalrashoud/opt/anaconda3/lib/python3.9/site-packages/sklearn/metrics/_classification.py:1334: UndefinedMetricWarning: Precision and F-score are ill-defined and being set to 0.0 in labels with no predicted samples. Use `zero_division` parameter to control this behavior.\n",
      "  _warn_prf(average, modifier, msg_start, len(result))\n",
      "/Users/raneemalrashoud/opt/anaconda3/lib/python3.9/site-packages/sklearn/metrics/_classification.py:1334: UndefinedMetricWarning: Precision and F-score are ill-defined and being set to 0.0 in labels with no predicted samples. Use `zero_division` parameter to control this behavior.\n",
      "  _warn_prf(average, modifier, msg_start, len(result))\n"
     ]
    }
   ],
   "source": [
    "# Validation methods\n",
    "#do a 10 fold cross-validation \n",
    "results_log = cross_val_score(classifier_log, x.todense(),lables, cv=10)\n",
    "print(\"\\n10-fold cross-validation:\")\n",
    "print(results_log)\n",
    "\n",
    "\n",
    "#calcuate the avrage accuracy\n",
    "print(\"The average accuracy of the LogisticRegression classifier is : %.2f\" % np.mean(results_log))\n",
    "\n",
    "\n",
    "#print confusion matrix\n",
    "print(\"\\nConfusion matrix of the LogisticRegression classifier:\")\n",
    "predicted_log = classifier_log.predict(x_test)\n",
    "print(confusion_matrix(y_test,predicted_log))\n",
    "\n",
    "\n",
    "#print Classification report\n",
    "print(\"\\nClassification_report of LogisticRegression classifier:\")\n",
    "print(classification_report(y_test,predicted_log))\n",
    "print(\"----------------------------------------------------------------------------\")"
   ]
  },
  {
   "cell_type": "code",
   "execution_count": 23,
   "id": "12ccab60",
   "metadata": {},
   "outputs": [],
   "source": [
    "# calculate the FPR and TPR for all thresholds of the classification\n",
    "\n",
    "probs = classifier_log.predict_proba(x_test)\n",
    "preds = probs[:,1]\n",
    "\n",
    "fpr, tpr, threshold = metrics.roc_curve(y_test, preds)\n",
    "roc_auc = metrics.auc(fpr, tpr)"
   ]
  },
  {
   "cell_type": "code",
   "execution_count": 15,
   "id": "c3499874",
   "metadata": {},
   "outputs": [
    {
     "data": {
      "image/png": "[encoded data removed]",
      "text/plain": [
       "<Figure size 432x288 with 1 Axes>"
      ]
     },
     "metadata": {
      "needs_background": "light"
     },
     "output_type": "display_data"
    }
   ],
   "source": [
    "# polt AUC\n",
    "plt.title('Receiver Operating Characteristic for Logistic regression classifier')\n",
    "plt.plot(fpr, tpr, 'b', label = 'AUC = %0.2f' % roc_auc)\n",
    "plt.legend(loc = 'lower right')\n",
    "plt.plot([0, 1], [0, 1],'r--')\n",
    "plt.xlim([0, 1])\n",
    "plt.ylim([0, 1])\n",
    "plt.ylabel('True Positive Rate')\n",
    "plt.xlabel('False Positive Rate')\n",
    "plt.show()"
   ]
  },
  {
   "cell_type": "markdown",
   "id": "7bfbaf4a",
   "metadata": {},
   "source": [
    "## Model#2 [Naïve Bayesian]"
   ]
  },
  {
   "cell_type": "code",
   "execution_count": 16,
   "id": "9e134419",
   "metadata": {},
   "outputs": [
    {
     "name": "stdout",
     "output_type": "stream",
     "text": [
      "MultinomialNB accuracy: 0.90\n"
     ]
    },
    {
     "name": "stderr",
     "output_type": "stream",
     "text": [
      "C:\\Users\\ghada\\anaconda3\\lib\\site-packages\\sklearn\\utils\\validation.py:593: FutureWarning: np.matrix usage is deprecated in 1.0 and will raise a TypeError in 1.2. Please convert to a numpy array with np.asarray. For more information see: https://numpy.org/doc/stable/reference/generated/numpy.matrix.html\n",
      "  warnings.warn(\n",
      "C:\\Users\\ghada\\anaconda3\\lib\\site-packages\\sklearn\\utils\\validation.py:593: FutureWarning: np.matrix usage is deprecated in 1.0 and will raise a TypeError in 1.2. Please convert to a numpy array with np.asarray. For more information see: https://numpy.org/doc/stable/reference/generated/numpy.matrix.html\n",
      "  warnings.warn(\n"
     ]
    }
   ],
   "source": [
    "# create the classifer and fit the training data and lables\n",
    "classifier_nb = MultinomialNB().fit(x_train.todense(),y_train)\n",
    "\n",
    "print(\"MultinomialNB accuracy: %.2f\"%classifier_nb.score(x_test.todense(), y_test))"
   ]
  },
  {
   "cell_type": "code",
   "execution_count": 17,
   "id": "e735dcf2",
   "metadata": {},
   "outputs": [
    {
     "name": "stderr",
     "output_type": "stream",
     "text": [
      "C:\\Users\\ghada\\anaconda3\\lib\\site-packages\\sklearn\\utils\\validation.py:593: FutureWarning: np.matrix usage is deprecated in 1.0 and will raise a TypeError in 1.2. Please convert to a numpy array with np.asarray. For more information see: https://numpy.org/doc/stable/reference/generated/numpy.matrix.html\n",
      "  warnings.warn(\n",
      "C:\\Users\\ghada\\anaconda3\\lib\\site-packages\\sklearn\\utils\\validation.py:593: FutureWarning: np.matrix usage is deprecated in 1.0 and will raise a TypeError in 1.2. Please convert to a numpy array with np.asarray. For more information see: https://numpy.org/doc/stable/reference/generated/numpy.matrix.html\n",
      "  warnings.warn(\n",
      "C:\\Users\\ghada\\anaconda3\\lib\\site-packages\\sklearn\\utils\\validation.py:593: FutureWarning: np.matrix usage is deprecated in 1.0 and will raise a TypeError in 1.2. Please convert to a numpy array with np.asarray. For more information see: https://numpy.org/doc/stable/reference/generated/numpy.matrix.html\n",
      "  warnings.warn(\n",
      "C:\\Users\\ghada\\anaconda3\\lib\\site-packages\\sklearn\\utils\\validation.py:593: FutureWarning: np.matrix usage is deprecated in 1.0 and will raise a TypeError in 1.2. Please convert to a numpy array with np.asarray. For more information see: https://numpy.org/doc/stable/reference/generated/numpy.matrix.html\n",
      "  warnings.warn(\n",
      "C:\\Users\\ghada\\anaconda3\\lib\\site-packages\\sklearn\\utils\\validation.py:593: FutureWarning: np.matrix usage is deprecated in 1.0 and will raise a TypeError in 1.2. Please convert to a numpy array with np.asarray. For more information see: https://numpy.org/doc/stable/reference/generated/numpy.matrix.html\n",
      "  warnings.warn(\n",
      "C:\\Users\\ghada\\anaconda3\\lib\\site-packages\\sklearn\\utils\\validation.py:593: FutureWarning: np.matrix usage is deprecated in 1.0 and will raise a TypeError in 1.2. Please convert to a numpy array with np.asarray. For more information see: https://numpy.org/doc/stable/reference/generated/numpy.matrix.html\n",
      "  warnings.warn(\n",
      "C:\\Users\\ghada\\anaconda3\\lib\\site-packages\\sklearn\\utils\\validation.py:593: FutureWarning: np.matrix usage is deprecated in 1.0 and will raise a TypeError in 1.2. Please convert to a numpy array with np.asarray. For more information see: https://numpy.org/doc/stable/reference/generated/numpy.matrix.html\n",
      "  warnings.warn(\n",
      "C:\\Users\\ghada\\anaconda3\\lib\\site-packages\\sklearn\\utils\\validation.py:593: FutureWarning: np.matrix usage is deprecated in 1.0 and will raise a TypeError in 1.2. Please convert to a numpy array with np.asarray. For more information see: https://numpy.org/doc/stable/reference/generated/numpy.matrix.html\n",
      "  warnings.warn(\n",
      "C:\\Users\\ghada\\anaconda3\\lib\\site-packages\\sklearn\\utils\\validation.py:593: FutureWarning: np.matrix usage is deprecated in 1.0 and will raise a TypeError in 1.2. Please convert to a numpy array with np.asarray. For more information see: https://numpy.org/doc/stable/reference/generated/numpy.matrix.html\n",
      "  warnings.warn(\n",
      "C:\\Users\\ghada\\anaconda3\\lib\\site-packages\\sklearn\\utils\\validation.py:593: FutureWarning: np.matrix usage is deprecated in 1.0 and will raise a TypeError in 1.2. Please convert to a numpy array with np.asarray. For more information see: https://numpy.org/doc/stable/reference/generated/numpy.matrix.html\n",
      "  warnings.warn(\n",
      "C:\\Users\\ghada\\anaconda3\\lib\\site-packages\\sklearn\\utils\\validation.py:593: FutureWarning: np.matrix usage is deprecated in 1.0 and will raise a TypeError in 1.2. Please convert to a numpy array with np.asarray. For more information see: https://numpy.org/doc/stable/reference/generated/numpy.matrix.html\n",
      "  warnings.warn(\n"
     ]
    },
    {
     "name": "stdout",
     "output_type": "stream",
     "text": [
      "\n",
      "10-fold cross-validation:\n",
      "[0.90909091 0.90909091 0.90909091 0.90909091 0.9086758  0.9086758\n",
      " 0.9086758  0.9086758  0.9086758  0.9086758 ]\n",
      "The average accuracy of the MultinomialNB classifier is : 0.91\n",
      "\n",
      "Confusion matrix of the MultinomialNB classifier:\n",
      "[[  0  65]\n",
      " [  0 594]]\n",
      "\n",
      "Classification_report of MultinomialNB classifier:\n",
      "              precision    recall  f1-score   support\n",
      "\n",
      "           0       0.00      0.00      0.00        65\n",
      "           1       0.90      1.00      0.95       594\n",
      "\n",
      "    accuracy                           0.90       659\n",
      "   macro avg       0.45      0.50      0.47       659\n",
      "weighted avg       0.81      0.90      0.85       659\n",
      "\n",
      "----------------------------------------------------------------------------\n"
     ]
    },
    {
     "name": "stderr",
     "output_type": "stream",
     "text": [
      "C:\\Users\\ghada\\anaconda3\\lib\\site-packages\\sklearn\\utils\\validation.py:593: FutureWarning: np.matrix usage is deprecated in 1.0 and will raise a TypeError in 1.2. Please convert to a numpy array with np.asarray. For more information see: https://numpy.org/doc/stable/reference/generated/numpy.matrix.html\n",
      "  warnings.warn(\n",
      "C:\\Users\\ghada\\anaconda3\\lib\\site-packages\\sklearn\\utils\\validation.py:593: FutureWarning: np.matrix usage is deprecated in 1.0 and will raise a TypeError in 1.2. Please convert to a numpy array with np.asarray. For more information see: https://numpy.org/doc/stable/reference/generated/numpy.matrix.html\n",
      "  warnings.warn(\n",
      "C:\\Users\\ghada\\anaconda3\\lib\\site-packages\\sklearn\\utils\\validation.py:593: FutureWarning: np.matrix usage is deprecated in 1.0 and will raise a TypeError in 1.2. Please convert to a numpy array with np.asarray. For more information see: https://numpy.org/doc/stable/reference/generated/numpy.matrix.html\n",
      "  warnings.warn(\n",
      "C:\\Users\\ghada\\anaconda3\\lib\\site-packages\\sklearn\\utils\\validation.py:593: FutureWarning: np.matrix usage is deprecated in 1.0 and will raise a TypeError in 1.2. Please convert to a numpy array with np.asarray. For more information see: https://numpy.org/doc/stable/reference/generated/numpy.matrix.html\n",
      "  warnings.warn(\n",
      "C:\\Users\\ghada\\anaconda3\\lib\\site-packages\\sklearn\\utils\\validation.py:593: FutureWarning: np.matrix usage is deprecated in 1.0 and will raise a TypeError in 1.2. Please convert to a numpy array with np.asarray. For more information see: https://numpy.org/doc/stable/reference/generated/numpy.matrix.html\n",
      "  warnings.warn(\n",
      "C:\\Users\\ghada\\anaconda3\\lib\\site-packages\\sklearn\\utils\\validation.py:593: FutureWarning: np.matrix usage is deprecated in 1.0 and will raise a TypeError in 1.2. Please convert to a numpy array with np.asarray. For more information see: https://numpy.org/doc/stable/reference/generated/numpy.matrix.html\n",
      "  warnings.warn(\n",
      "C:\\Users\\ghada\\anaconda3\\lib\\site-packages\\sklearn\\utils\\validation.py:593: FutureWarning: np.matrix usage is deprecated in 1.0 and will raise a TypeError in 1.2. Please convert to a numpy array with np.asarray. For more information see: https://numpy.org/doc/stable/reference/generated/numpy.matrix.html\n",
      "  warnings.warn(\n",
      "C:\\Users\\ghada\\anaconda3\\lib\\site-packages\\sklearn\\utils\\validation.py:593: FutureWarning: np.matrix usage is deprecated in 1.0 and will raise a TypeError in 1.2. Please convert to a numpy array with np.asarray. For more information see: https://numpy.org/doc/stable/reference/generated/numpy.matrix.html\n",
      "  warnings.warn(\n",
      "C:\\Users\\ghada\\anaconda3\\lib\\site-packages\\sklearn\\utils\\validation.py:593: FutureWarning: np.matrix usage is deprecated in 1.0 and will raise a TypeError in 1.2. Please convert to a numpy array with np.asarray. For more information see: https://numpy.org/doc/stable/reference/generated/numpy.matrix.html\n",
      "  warnings.warn(\n",
      "C:\\Users\\ghada\\anaconda3\\lib\\site-packages\\sklearn\\utils\\validation.py:593: FutureWarning: np.matrix usage is deprecated in 1.0 and will raise a TypeError in 1.2. Please convert to a numpy array with np.asarray. For more information see: https://numpy.org/doc/stable/reference/generated/numpy.matrix.html\n",
      "  warnings.warn(\n",
      "C:\\Users\\ghada\\anaconda3\\lib\\site-packages\\sklearn\\metrics\\_classification.py:1318: UndefinedMetricWarning: Precision and F-score are ill-defined and being set to 0.0 in labels with no predicted samples. Use `zero_division` parameter to control this behavior.\n",
      "  _warn_prf(average, modifier, msg_start, len(result))\n",
      "C:\\Users\\ghada\\anaconda3\\lib\\site-packages\\sklearn\\metrics\\_classification.py:1318: UndefinedMetricWarning: Precision and F-score are ill-defined and being set to 0.0 in labels with no predicted samples. Use `zero_division` parameter to control this behavior.\n",
      "  _warn_prf(average, modifier, msg_start, len(result))\n",
      "C:\\Users\\ghada\\anaconda3\\lib\\site-packages\\sklearn\\metrics\\_classification.py:1318: UndefinedMetricWarning: Precision and F-score are ill-defined and being set to 0.0 in labels with no predicted samples. Use `zero_division` parameter to control this behavior.\n",
      "  _warn_prf(average, modifier, msg_start, len(result))\n"
     ]
    }
   ],
   "source": [
    "#do a 10 fold cross-validation \n",
    "results_nb = cross_val_score(classifier_nb, x.todense(),lables, cv=10)\n",
    "print(\"\\n10-fold cross-validation:\")\n",
    "print(results_nb)\n",
    "\n",
    "#calcuate the avrage accuracy\n",
    "print(\"The average accuracy of the MultinomialNB classifier is : %.2f\" % np.mean(results_nb))\n",
    "\n",
    "#print confusion matrix\n",
    "print(\"\\nConfusion matrix of the MultinomialNB classifier:\")\n",
    "predicted_nb = classifier_nb.predict(x_test.todense())\n",
    "print(confusion_matrix(y_test,predicted_nb))\n",
    "\n",
    "#print Classification report\n",
    "print(\"\\nClassification_report of MultinomialNB classifier:\")\n",
    "print(classification_report(y_test,predicted_nb))\n",
    "print(\"----------------------------------------------------------------------------\")\n"
   ]
  },
  {
   "cell_type": "code",
   "execution_count": 18,
   "id": "f3ebbe82",
   "metadata": {},
   "outputs": [],
   "source": [
    "# calculate the fpr and tpr for all thresholds of the classification\n",
    "\n",
    "probs = classifier_nb.predict_proba(x_test)\n",
    "preds = probs[:,1]\n",
    "\n",
    "fpr, tpr, threshold = metrics.roc_curve(y_test, preds)\n",
    "roc_auc = metrics.auc(fpr, tpr)"
   ]
  },
  {
   "cell_type": "code",
   "execution_count": 19,
   "id": "42a8d54a",
   "metadata": {},
   "outputs": [
    {
     "data": {
      "image/png": "[encoded data removed]",
      "text/plain": [
       "<Figure size 432x288 with 1 Axes>"
      ]
     },
     "metadata": {
      "needs_background": "light"
     },
     "output_type": "display_data"
    }
   ],
   "source": [
    "# polt AUC\n",
    "plt.title('Receiver Operating Characteristic for Naive Bayes classifier')\n",
    "plt.plot(fpr, tpr, 'b', label = 'AUC = %0.2f' % roc_auc)\n",
    "plt.legend(loc = 'lower right')\n",
    "plt.plot([0, 1], [0, 1],'r--')\n",
    "plt.xlim([0, 1])\n",
    "plt.ylim([0, 1])\n",
    "plt.ylabel('True Positive Rate')\n",
    "plt.xlabel('False Positive Rate')\n",
    "plt.show()"
   ]
  },
  {
   "cell_type": "code",
   "execution_count": null,
   "id": "c38e0486",
   "metadata": {},
   "outputs": [],
   "source": []
  }
 ],
 "metadata": {
  "kernelspec": {
   "display_name": "Python 3 (ipykernel)",
   "language": "python",
   "name": "python3"
  },
  "language_info": {
   "codemirror_mode": {
    "name": "ipython",
    "version": 3
   },
   "file_extension": ".py",
   "mimetype": "text/x-python",
   "name": "python",
   "nbconvert_exporter": "python",
   "pygments_lexer": "ipython3",
   "version": "3.9.7"
  }
 },
 "nbformat": 4,
 "nbformat_minor": 5
}
