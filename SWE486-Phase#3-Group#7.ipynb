{
 "cells": [
  {
   "cell_type": "markdown",
   "id": "fa729127",
   "metadata": {},
   "source": [
    "# Descriptive"
   ]
  },
  {
   "cell_type": "code",
   "execution_count": null,
   "id": "6f4c5de9",
   "metadata": {},
   "outputs": [],
   "source": []
  },
  {
   "cell_type": "markdown",
   "id": "e4580626",
   "metadata": {},
   "source": [
    "# Predictive"
   ]
  },
  {
   "cell_type": "code",
   "execution_count": null,
   "id": "fd5d2c5a",
   "metadata": {},
   "outputs": [],
   "source": []
  },
  {
   "cell_type": "markdown",
   "id": "a36761d4",
   "metadata": {},
   "source": [
    "# Model#1 [Supervised]"
   ]
  },
  {
   "cell_type": "code",
   "execution_count": null,
   "id": "2d2fc787",
   "metadata": {},
   "outputs": [],
   "source": []
  },
  {
   "cell_type": "markdown",
   "id": "f55fb1c8",
   "metadata": {},
   "source": [
    "# Model#2 [Unsupervised]"
   ]
  },
  {
   "cell_type": "code",
   "execution_count": null,
   "id": "5d9e39f1",
   "metadata": {},
   "outputs": [],
   "source": []
  }
 ],
 "metadata": {
  "kernelspec": {
   "display_name": "Python 3 (ipykernel)",
   "language": "python",
   "name": "python3"
  },
  "language_info": {
   "codemirror_mode": {
    "name": "ipython",
    "version": 3
   },
   "file_extension": ".py",
   "mimetype": "text/x-python",
   "name": "python",
   "nbconvert_exporter": "python",
   "pygments_lexer": "ipython3",
   "version": "3.9.7"
  }
 },
 "nbformat": 4,
 "nbformat_minor": 5
}
